{
 "cells": [
  {
   "cell_type": "markdown",
   "id": "8de355cd",
   "metadata": {},
   "source": [
    "<font size=\"+3\"><strong>8.4. Model Deployment</strong></font>"
   ]
  },
  {
   "cell_type": "markdown",
   "id": "871fe665",
   "metadata": {},
   "source": [
    "Ready for deployment! Over the last three lessons, we've built all the pieces we need for our application. We have a module for getting and storing our data. We have the code to train our model and clean its predictions. In this lesson, we're going to put all those pieces together and deploy our model with an API that others can use to train their own models and predict volatility. We'll start by creating a `model` for all the code we created in the last lesson. Then we'll complete our `main` module, which will hold our FastAPI application with two paths: one for model training and one for prediction. Let's jump in!"
   ]
  },
  {
   "cell_type": "code",
   "execution_count": 1,
   "id": "9678634c",
   "metadata": {},
   "outputs": [],
   "source": [
    "%load_ext autoreload\n",
    "%autoreload 2\n",
    "\n",
    "import os\n",
    "import sqlite3\n",
    "from glob import glob\n",
    "\n",
    "import joblib\n",
    "import pandas as pd\n",
    "import requests\n",
    "\n",
    "from arch.univariate.base import ARCHModelResult\n",
    "from config import settings\n",
    "from data import SQLRepository\n"
   ]
  },
  {
   "cell_type": "markdown",
   "id": "5803c170",
   "metadata": {},
   "source": [
    "# Model Module"
   ]
  },
  {
   "cell_type": "markdown",
   "id": "14781819",
   "metadata": {},
   "source": [
    "We created a lot of code in the last lesson to building, training, and making predictions with our GARCH(1,1) model. We want this code to be reusable, so let's put it in its own module.\n",
    "\n",
    "Let's start by instantiating a repository that we'll use for testing our module as we build."
   ]
  },
  {
   "cell_type": "markdown",
   "id": "aecbef8a",
   "metadata": {},
   "source": [
    "**Task 8.4.1:** Create a `SQLRepository` named `repo`. Be sure that it's attached to a SQLite connection.\n",
    "\n",
    "- [Open a connection to a SQL database using sqlite3.](../%40textbook/10-databases-sql.ipynb#sqlite3)"
   ]
  },
  {
   "cell_type": "code",
   "execution_count": 2,
   "id": "5b161621",
   "metadata": {},
   "outputs": [
    {
     "name": "stdout",
     "output_type": "stream",
     "text": [
      "repo type: <class 'data.SQLRepository'>\n",
      "repo.connection type: <class 'sqlite3.Connection'>\n"
     ]
    }
   ],
   "source": [
    "connection = sqlite3.connect(settings.db_name, check_same_thread = False)\n",
    "repo = SQLRepository(connection=connection)\n",
    "\n",
    "print(\"repo type:\", type(repo))\n",
    "print(\"repo.connection type:\", type(repo.connection))"
   ]
  },
  {
   "cell_type": "markdown",
   "id": "82a23031",
   "metadata": {},
   "source": [
    "Now that we have the `repo` ready, we'll shift to our `model` module and build a `GarchModel` class to hold all our code from the last lesson."
   ]
  },
  {
   "cell_type": "markdown",
   "id": "dce161bc",
   "metadata": {},
   "source": [
    "**Task 8.4.2:** In the `model` module, create a definition for a `GarchModel` model class. For now, it should only have an `__init__` method. Use the docstring as a guide. When you're done, test your class using the assert statements below.\n",
    "\n",
    "- [What's a class?](../%40textbook/21-python-object-oriented-programming.ipynb#Classes)\n",
    "- [Write a class definition in Python.](../%40textbook/21-python-object-oriented-programming.ipynb#Defining-a-Class)\n",
    "- [Write a class method in Python.](../%40textbook/21-python-object-oriented-programming.ipynb#Methods)\n",
    "- [What's an assert statement?](../%40textbook/02-python-advanced.ipynb#Testing-Code)\n",
    "- [Write an assert statement in Python.](../%40textbook/02-python-advanced.ipynb#Testing-Code)"
   ]
  },
  {
   "cell_type": "code",
   "execution_count": 3,
   "id": "b72ddfdc",
   "metadata": {},
   "outputs": [],
   "source": [
    "from model import GarchModel\n",
    "\n",
    "# Instantiate a `GarchModel`\n",
    "gm_ambuja = GarchModel(ticker=\"AMBUJACEM.BSE\", repo=repo, use_new_data=False)\n",
    "\n",
    "# Does `gm_ambuja` have the correct attributes?\n",
    "assert gm_ambuja.ticker == \"AMBUJACEM.BSE\"\n",
    "assert gm_ambuja.repo == repo\n",
    "assert not gm_ambuja.use_new_data\n",
    "assert gm_ambuja.model_directory == settings.model_directory"
   ]
  },
  {
   "cell_type": "markdown",
   "id": "ee3a2c0a",
   "metadata": {},
   "source": [
    "**Task 8.4.3:** Turn your `wrangle_data` function from the last lesson into a method for your `GarchModel` class. When you're done, use the assert statements below to test the method by getting and wrangling data for the department store [Shoppers Stop](https://www.shoppersstop.com/).\n",
    "\n",
    "- [What's a function?](../%40textbook/02-python-advanced.ipynb#Functions)\n",
    "- [Write a function in Python.](../%40textbook/02-python-advanced.ipynb#Functions)\n",
    "- [Write a class method in Python.](../%40textbook/21-python-object-oriented-programming.ipynb#Methods)\n",
    "- [What's an assert statement?](../%40textbook/02-python-advanced.ipynb#Testing-Code)\n",
    "- [Write an assert statement in Python.](../%40textbook/02-python-advanced.ipynb#Testing-Code)"
   ]
  },
  {
   "cell_type": "code",
   "execution_count": null,
   "id": "75eacd31",
   "metadata": {},
   "outputs": [],
   "source": [
    "# Instantiate `GarchModel`, use new data\n",
    "model_shop = GarchModel(ticker=\"SHOPERSTOP.BSE\", repo=repo, use_new_data=True)\n",
    "\n",
    "# Check that model doesn't have `data` attribute yet\n",
    "assert not hasattr(model_shop, \"data\")\n",
    "\n",
    "# Wrangle data\n",
    "model_shop.wrangle_data(n_observations=1000)\n",
    "\n",
    "# Does model now have `data` attribute?\n",
    "assert hasattr(model_shop, \"data\")\n",
    "\n",
    "# Is the `data` a Series?\n",
    "assert isinstance(model_shop.data, pd.Series)\n",
    "\n",
    "# Is Series correct shape?\n",
    "assert model_shop.data.shape == (1000,)\n",
    "\n",
    "model_shop.data.head()"
   ]
  },
  {
   "cell_type": "markdown",
   "id": "b14b7b96",
   "metadata": {},
   "source": [
    "**Task 8.4.4:** Using your code from the previous lesson, create a `fit` method for your `GarchModel` class. When you're done, use the code below to test it.\n",
    "\n",
    "- [Write a class method in Python.](../%40textbook/21-python-object-oriented-programming.ipynb#Methods)\n",
    "- [What's an assert statement?](../%40textbook/02-python-advanced.ipynb#Testing-Code)\n",
    "- [Write an assert statement in Python.](../%40textbook/02-python-advanced.ipynb#Testing-Code)"
   ]
  },
  {
   "cell_type": "code",
   "execution_count": null,
   "id": "d26c7723",
   "metadata": {},
   "outputs": [],
   "source": [
    "# Instantiate `GarchModel`, use old data\n",
    "model_shop = GarchModel(ticker=\"SHOPERSTOP.BSE\", repo=repo, use_new_data=False)\n",
    "\n",
    "# Wrangle data\n",
    "model_shop.wrangle_data(n_observations=1000)\n",
    "\n",
    "# Fit GARCH(1,1) model to data\n",
    "model_shop.fit(p=1, q=1)\n",
    "\n",
    "# Does `model_shop` have a `model` attribute now?\n",
    "assert hasattr(model_shop, \"model\")\n",
    "\n",
    "# Is model correct data type?\n",
    "assert isinstance(model_shop.model, ARCHModelResult)\n",
    "\n",
    "# Does model have correct parameters?\n",
    "assert model_shop.model.params.index.tolist() == [\"mu\", \"omega\", \"alpha[1]\", \"beta[1]\"]\n",
    "\n",
    "# Check model parameters\n",
    "model_shop.model.summary()"
   ]
  },
  {
   "cell_type": "markdown",
   "id": "4ccffece",
   "metadata": {},
   "source": [
    "**Task 8.4.5:** Using your code from the previous lesson, create a `predict_volatility` method for your `GarchModel` class. Your method will need to return predictions as a dictionary, so you'll need to add your `clean_prediction` function as a helper method. When you're done, test your work using the assert statements below.\n",
    "\n",
    "- [Write a class method in Python.](../%40textbook/21-python-object-oriented-programming.ipynb#Methods)\n",
    "- [Write a function in Python.](../%40textbook/02-python-advanced.ipynb#Functions)\n",
    "- [What's an assert statement?](../%40textbook/02-python-advanced.ipynb#Testing-Code)\n",
    "- [Write an assert statement in Python.](../%40textbook/02-python-advanced.ipynb#Testing-Code)"
   ]
  },
  {
   "cell_type": "code",
   "execution_count": null,
   "id": "ba515ae0",
   "metadata": {},
   "outputs": [],
   "source": [
    "# Generate prediction from `model_shop`\n",
    "prediction = model_shop.predict_volatility(horizon=5)\n",
    "\n",
    "# Is prediction a dictionary?\n",
    "assert isinstance(prediction, dict)\n",
    "\n",
    "# Are keys correct data type?\n",
    "assert all(isinstance(k, str) for k in prediction.keys())\n",
    "\n",
    "# Are values correct data type?\n",
    "assert all(isinstance(v, float) for v in prediction.values())\n",
    "\n",
    "prediction"
   ]
  },
  {
   "cell_type": "markdown",
   "id": "4c95ddf0",
   "metadata": {},
   "source": [
    "Things are looking good! There are two last methods that we need to add to our `GarchModel` so that we can save a trained model and then load it when we need it. When we learned about saving and loading files in Project 5, we used a context handler. This time, we'll streamline the process using the [joblib library](https://joblib.readthedocs.io/en/latest/). We'll also start writing our filepaths more programmatically using the [os library](https://docs.python.org/3/library/os.html)."
   ]
  },
  {
   "cell_type": "markdown",
   "id": "293b8eb9",
   "metadata": {},
   "source": [
    "**Task 8.4.6:** Create a `dump` method for your `GarchModel` class. It should save the model assigned to the `model` attribute to the folder specified in your configuration `settings`. Use the docstring as a guide, and then test your work below.\n",
    "\n",
    "- [Write a class method in Python.](../%40textbook/21-python-object-oriented-programming.ipynb#Methods)\n",
    "- [Save an object using joblib.](../%40textbook/02-python-advanced.ipynb#Saving-and-Loading-Files-with-joblib)\n",
    "- [Create a file path using os.](../%40textbook/02-python-advanced.ipynb#Working-with-Filepaths)"
   ]
  },
  {
   "cell_type": "code",
   "execution_count": null,
   "id": "cc213d50",
   "metadata": {},
   "outputs": [],
   "source": [
    "# Save `model_shop` model, assign filename\n",
    "filename = model_shop.dump()\n",
    "\n",
    "# Is `filename` a string?\n",
    "assert isinstance(filename, str)\n",
    "\n",
    "# Does filename include ticker symbol?\n",
    "assert model_shop.ticker in filename\n",
    "\n",
    "# Does file exist?\n",
    "assert os.path.exists(filename)\n",
    "\n",
    "filename"
   ]
  },
  {
   "cell_type": "markdown",
   "id": "8b6e5788",
   "metadata": {},
   "source": [
    "**Task 8.4.7:** Create a `load` function below that will take a ticker symbol as input and return a model. When you're done, use the next cell to load the Shoppers Stop model you saved in the previous task.\n",
    "\n",
    "- [Handle errors using `try` and `except` blocks in Python.](../%40textbook/02-python-advanced.ipynb#Error-Handling)\n",
    "- [Create a file path using os.](../%40textbook/02-python-advanced.ipynb#Working-with-Filepaths)\n",
    "- [Raise an `Exception` in Python.](../%40textbook/02-python-advanced.ipynb#Raising-Errors)"
   ]
  },
  {
   "cell_type": "code",
   "execution_count": null,
   "id": "c0ed7337",
   "metadata": {},
   "outputs": [],
   "source": [
    "def load(ticker):\n",
    "\n",
    "    \"\"\"Load latest model from model directory.\n",
    "\n",
    "    Parameters\n",
    "    ----------\n",
    "    ticker : str\n",
    "        Ticker symbol for which model was trained.\n",
    "\n",
    "    Returns\n",
    "    -------\n",
    "    `ARCHModelResult`\n",
    "    \"\"\"\n",
    "    # Create pattern for glob search\n",
    "    pattern = os.path.join(settings.model_directory, f\"*{ticker}.pkl\")\n",
    "\n",
    "    # Try to find path of latest model\n",
    "    try:\n",
    "        model_path = sorted(glob(pattern))[-1]\n",
    "\n",
    "    # Handle possible `IndexError`\n",
    "    except IndexError:\n",
    "        raise Exception(f\"No model trained for filename '{ticker}'.\")\n",
    "\n",
    "    # Load model\n",
    "    model = joblib.load(model_path)\n",
    "\n",
    "    # Return model\n",
    "    return model"
   ]
  },
  {
   "cell_type": "code",
   "execution_count": null,
   "id": "94266117",
   "metadata": {},
   "outputs": [],
   "source": [
    "# Assign load output to `model`\n",
    "model_shop = load(ticker=\"SHOPERSTOP.BSE\")\n",
    "\n",
    "# Does function return an `ARCHModelResult`\n",
    "assert isinstance(model_shop, ARCHModelResult)\n",
    "\n",
    "# Check model parameters\n",
    "model_shop.summary()"
   ]
  },
  {
   "cell_type": "markdown",
   "id": "c7acdca8",
   "metadata": {},
   "source": [
    "**Task 8.4.8:** Transform your `load` function into a method for your `GarchModel` class. When you're done, test the method using the assert statements below.\n",
    "\n",
    "- [Write a class method in Python.](../%40textbook/21-python-object-oriented-programming.ipynb#Methods)\n",
    "- [What's an assert statement?](../%40textbook/02-python-advanced.ipynb#Testing-Code)\n",
    "- [Write an assert statement in Python.](../%40textbook/02-python-advanced.ipynb#Testing-Code)"
   ]
  },
  {
   "cell_type": "code",
   "execution_count": null,
   "id": "505d83a1",
   "metadata": {},
   "outputs": [],
   "source": [
    "model_shop = GarchModel(ticker=\"SHOPERSTOP.BSE\", repo=repo, use_new_data=False)\n",
    "\n",
    "# Check that new `model_shop_test` doesn't have model attached\n",
    "assert not hasattr(model_shop, \"model\")\n",
    "\n",
    "# Load model\n",
    "model_shop.load()\n",
    "\n",
    "# Does `model_shop_test` have model attached?\n",
    "assert hasattr(model_shop, \"model\")\n",
    "\n",
    "model_shop.model.summary()"
   ]
  },
  {
   "cell_type": "markdown",
   "id": "eb6edc41",
   "metadata": {},
   "source": [
    "Our `model` module is done! Now it's time to move on to the \"main\" course and add the final piece to our application."
   ]
  },
  {
   "cell_type": "markdown",
   "id": "e2111ba6",
   "metadata": {},
   "source": [
    "# Main Module"
   ]
  },
  {
   "cell_type": "markdown",
   "id": "eef1747b",
   "metadata": {},
   "source": [
    "Similar to the interactive applications we made in Projects 6 and 7, our first step here will be to create an `app` object. This time, instead of being a plotly application, it'll be a FastAPI application."
   ]
  },
  {
   "cell_type": "markdown",
   "id": "afc6657f",
   "metadata": {},
   "source": [
    "**Task 8.4.9:** In the `main` module, instantiate a FastAPI application named `app`.\n",
    "\n",
    "- [Instantiate an application in FastAPI.](../%40textbook/22-apis.ipynb#Creating-a-Path)"
   ]
  },
  {
   "cell_type": "markdown",
   "id": "b72e79b1",
   "metadata": {},
   "source": [
    "In order for our `app` to work, we need to run it on a server. In this case, we'll run the server on our virtual machine using the [uvicorn library](https://www.uvicorn.org/)."
   ]
  },
  {
   "cell_type": "markdown",
   "id": "cc2bda6b",
   "metadata": {},
   "source": [
    "**Task 8.4.10:** Go to the command line, navigate to the directory for this project, and start your app server by entering the following command.\n",
    "\n",
    "```bash\n",
    "uvicorn main:app --reload --workers 1 --host localhost --port 8008\n",
    "```"
   ]
  },
  {
   "cell_type": "markdown",
   "id": "55719887",
   "metadata": {},
   "source": [
    "Remember how the AlphaVantage API had a `\"/query\"` path that we accessed using a `get` HTTP request? We're going to build similar paths for our application. Let's start with an MVP example so we can learn how paths work in FastAPI. "
   ]
  },
  {
   "cell_type": "markdown",
   "id": "4107fb64",
   "metadata": {},
   "source": [
    "**Task 8.4.11:** Create a `\"/hello\"` path for your app that returns a greeting when it receives a `get` request.\n",
    "\n",
    "- [Create an application path in FastAPI.](../%40textbook/22-apis.ipynb#Creating-a-Path)"
   ]
  },
  {
   "cell_type": "markdown",
   "id": "51f7274c",
   "metadata": {},
   "source": [
    "We've got our path. Let's perform as `get` request to see if it works."
   ]
  },
  {
   "cell_type": "markdown",
   "id": "6ef84b7e",
   "metadata": {},
   "source": [
    "**Task 8.4.12:** Create a `get` request to hit the `\"/hello\"` path running at `\"http://localhost:8008\"`.\n",
    "\n",
    "- [What's an HTTP request?](../%40textbook/22-apis.ipynb#RESTful-APIs)\n",
    "- [Make an HTTP request using requests.](..//%40textbook/22-apis.ipynb#Making-an-HTTP-Request)"
   ]
  },
  {
   "cell_type": "code",
   "execution_count": null,
   "id": "623c38be",
   "metadata": {},
   "outputs": [],
   "source": [
    "url = \"http://localhost:8008/hello\"\n",
    "response = requests.get(url=url)\n",
    "\n",
    "print(\"response code:\", response.status_code)\n",
    "response.json()"
   ]
  },
  {
   "cell_type": "markdown",
   "id": "56edc3cb",
   "metadata": {},
   "source": [
    "## `\"/fit\"` Path"
   ]
  },
  {
   "cell_type": "markdown",
   "id": "058352f0",
   "metadata": {},
   "source": [
    "Our first path will allow the user to fit a model to stock data when they make a `post` request to our server. They'll have the choice to use new data from AlphaVantage, or older data that's already in our database. When a user makes a request, they'll receive a response telling them if the operation was successful or whether there was an error. \n",
    "\n",
    "One thing that's very important when building an API is making sure the user passes the correct parameters into the app. Otherwise, our app could crash! FastAPI works well with the [pydantic library](https://pydantic-docs.helpmanual.io/), which checks that each request has the correct parameters and data types. It does this by using special data classes that we need to define. Our `\"/fit\"` path will take user input and then output a response, so we need two classes: one for input and one for output."
   ]
  },
  {
   "cell_type": "markdown",
   "id": "011a8f1e",
   "metadata": {},
   "source": [
    "**Task 8.4.13:** Create definitions for a `FitIn` and a `FitOut` data class. The `FitIn` class should inherit from the pydantic `BaseClass`, and the `FitOut` class should inherit from the `FitIn` class. Be sure to include type hints.\n",
    "\n",
    "- [Write a class definition in Python.](../%40textbook/21-python-object-oriented-programming.ipynb#Defining-a-Class)\n",
    "- [What's class inheritance?](../%40textbook/21-python-object-oriented-programming.ipynb#Inheritance)\n",
    "- [What are type hints?](../%40textbook/22-apis.ipynb#Data-Classes-and-Type-Checking)\n",
    "- [Define a data model in pydantic.](../%40textbook/22-apis.ipynb#Data-Classes-and-Type-Checking)"
   ]
  },
  {
   "cell_type": "markdown",
   "id": "36bf5620",
   "metadata": {},
   "source": [
    "With our data classes defined, let's see how pydantic ensures our that users are supplying the correct input and our application is returning the correct output."
   ]
  },
  {
   "cell_type": "markdown",
   "id": "2bbcceca",
   "metadata": {},
   "source": [
    "**Task 8.4.14:** Use the code below to experiment with your `FitIn` and `FitOut` classes. Under what circumstances does instantiating them throw errors? What class or classes are they instances of?\n",
    "\n",
    "- [What's class inheritance?](../%40textbook/21-python-object-oriented-programming.ipynb#Inheritance)\n",
    "- [What are type hints?](../%40textbook/22-apis.ipynb#Data-Classes-and-Type-Checking)\n",
    "- [Define a data model in pydantic.](../%40textbook/22-apis.ipynb#Data-Classes-and-Type-Checking)"
   ]
  },
  {
   "cell_type": "code",
   "execution_count": null,
   "id": "ecc5a8ec",
   "metadata": {},
   "outputs": [],
   "source": [
    "from main import FitIn, FitOut\n",
    "\n",
    "# Instantiate `FitIn`. Play with parameters.\n",
    "fi = FitIn(\n",
    "    ticker = \"SHOPERSTOP.BSE\",\n",
    "    use_new_data = True,\n",
    "    n_observations = 2000,\n",
    "    p = 1,\n",
    "    q = 1\n",
    ")\n",
    "print(fi)\n",
    "\n",
    "# Instantiate `FitOut`. Play with parameters.\n",
    "fo = FitOut(\n",
    "    ticker = \"SHOPERSTOP.BSE\",\n",
    "    use_new_data = True,\n",
    "    n_observations = 2000,\n",
    "    p = 1,\n",
    "    q = 1,\n",
    "    success = True,\n",
    "    message = \"Great Job!!!\"\n",
    ")\n",
    "print(fo)"
   ]
  },
  {
   "cell_type": "code",
   "execution_count": null,
   "id": "087cb122",
   "metadata": {},
   "outputs": [],
   "source": [
    "dir(fi)"
   ]
  },
  {
   "cell_type": "code",
   "execution_count": null,
   "id": "9efdf128",
   "metadata": {},
   "outputs": [],
   "source": [
    "fi.schema()"
   ]
  },
  {
   "cell_type": "markdown",
   "id": "b3deee31",
   "metadata": {},
   "source": [
    "One cool feature of FastAPI is that it can work in asynchronous scenarios. That's not something we need to learn for this project, but it does mean that we need to instantiate a `GarchModel` object each time a user makes a request. To make the coding easier for us, let's make a function to handle that process for us. "
   ]
  },
  {
   "cell_type": "markdown",
   "id": "8ca7b187",
   "metadata": {},
   "source": [
    "**Task 8.4.15:** Create a `build_model` function in your `main` module. Use the docstring as a guide, and test your function below.\n",
    "\n",
    "- [What's a function?](../%40textbook/02-python-advanced.ipynb#Functions)\n",
    "- [Write a function in Python.](../%40textbook/02-python-advanced.ipynb#Functions)\n",
    "- [What's an assert statement?](../%40textbook/02-python-advanced.ipynb#Testing-Code)\n",
    "- [Write an assert statement in Python.](../%40textbook/02-python-advanced.ipynb#Testing-Code)"
   ]
  },
  {
   "cell_type": "code",
   "execution_count": null,
   "id": "79096042",
   "metadata": {},
   "outputs": [],
   "source": [
    "from main import build_model\n",
    "\n",
    "# Instantiate `GarchModel` with function\n",
    "model_shop = build_model(ticker=\"SHOPERSTOP.BSE\", use_new_data=False)\n",
    "\n",
    "# Is `SQLRepository` attached to `model_shop`?\n",
    "assert isinstance(model_shop.repo, SQLRepository)\n",
    "\n",
    "# Is SQLite database attached to `SQLRepository`\n",
    "assert isinstance(model_shop.repo.connection, sqlite3.Connection)\n",
    "\n",
    "# Is `ticker` attribute correct?\n",
    "assert model_shop.ticker == \"SHOPERSTOP.BSE\"\n",
    "\n",
    "# Is `use_new_data` attribute correct?\n",
    "assert not model_shop.use_new_data\n",
    "\n",
    "model_shop"
   ]
  },
  {
   "cell_type": "markdown",
   "id": "9c2462c9",
   "metadata": {},
   "source": [
    "We've got data classes, we've got a `build_model` function, and all that's left is to build the `\"/fit\"` path. We'll use our `\"/hello\"` path as a template, but we'll need to include more features, like error handling. "
   ]
  },
  {
   "cell_type": "markdown",
   "id": "89797f44",
   "metadata": {},
   "source": [
    "**Task 8.4.16:** Create a `\"/fit\"` path for your `app`. It will take a `FitIn` object as input, and then build a `GarchModel` using the `build_model` function. The model will wrangle the needed data, fit to the data, and save the completed model. Finally, it will send a response in the form of a `FitOut` object. Be sure to handle any errors that may arise. \n",
    "\n",
    "- [Create an application path in FastAPI.](../%40textbook/22-apis.ipynb#Creating-a-Path)"
   ]
  },
  {
   "cell_type": "markdown",
   "id": "87eda9bf",
   "metadata": {},
   "source": [
    "Last step! Let's make a `post` request and see how our app responds."
   ]
  },
  {
   "cell_type": "markdown",
   "id": "abee6940",
   "metadata": {},
   "source": [
    "**Task 8.4.17:** Create a `post` request to hit the `\"/fit\"` path running at `\"http://localhost:8008\"`. You should train a GARCH(1,1) model on 2000 observations of the Shoppers Stop data you already downloaded. Pass in your parameters as a dictionary using the `json` argument.\n",
    "\n",
    "- [What's an argument?](../%40textbook/01-python-getting-started.ipynb#JSON)\n",
    "- [What's an HTTP request?](../%40textbook/22-apis.ipynb#RESTful-APIs)\n",
    "- [Make an HTTP request using requests.](..//%40textbook/22-apis.ipynb#Making-an-HTTP-Request)"
   ]
  },
  {
   "cell_type": "code",
   "execution_count": null,
   "id": "939aadda",
   "metadata": {},
   "outputs": [],
   "source": [
    "# URL of `/fit` path\n",
    "url = \"http://localhost:8008/fit\"\n",
    "\n",
    "# Data to send to path\n",
    "json = {\n",
    "    \"ticker\" : \"SHOPERSTOP.BSE\",\n",
    "    \"use_new_data\" : True,\n",
    "    \"n_observations\" : 2000,\n",
    "    \"p\": 1,\n",
    "    \"q\": 1\n",
    "}\n",
    "# Response of post request\n",
    "response = requests.post(url=url, json=json)\n",
    "# Inspect response\n",
    "print(\"response code:\", response.status_code)\n",
    "response.json()"
   ]
  },
  {
   "cell_type": "markdown",
   "id": "d14079cd",
   "metadata": {},
   "source": [
    "## `\"/predict\"` Path"
   ]
  },
  {
   "cell_type": "markdown",
   "id": "3ed752db",
   "metadata": {},
   "source": [
    "For our `\"/predict\"` path, users will be able to make a `post` request with the ticker symbol they want a prediction for and the number of days they want to forecast into the future. Our app will return a forecast or, if there's an error, a message explaining the problem.\n",
    "\n",
    "The setup will be very similar to our `\"/fit\"` path. We'll start with data classes for the in- and output."
   ]
  },
  {
   "cell_type": "markdown",
   "id": "6b8b03c6",
   "metadata": {},
   "source": [
    "**Task 8.4.18:** Create definitions for a `PredictIn` and `PredictOut` data class. The `PredictIn` class should inherit from the pydantic `BaseModel`, and the `PredictOut` class should inherit from the `PredictIn` class. Be sure to include type hints. The use the code below to test your classes.\n",
    "\n",
    "- [Write a class definition in Python.](../%40textbook/21-python-object-oriented-programming.ipynb#Defining-a-Class)\n",
    "- [What's class inheritance?](../%40textbook/21-python-object-oriented-programming.ipynb#Inheritance)\n",
    "- [What are type hints?](../%40textbook/22-apis.ipynb#Data-Classes-and-Type-Checking)\n",
    "- [Define a data model in pydantic.](../%40textbook/22-apis.ipynb#Data-Classes-and-Type-Checking)"
   ]
  },
  {
   "cell_type": "code",
   "execution_count": null,
   "id": "41d7e3c4",
   "metadata": {},
   "outputs": [],
   "source": [
    "from main import PredictIn, PredictOut\n",
    "\n",
    "pi = PredictIn(ticker=\"SHOPERSTOP.BSE\", n_days=5)\n",
    "print(pi)\n",
    "\n",
    "po = PredictOut(\n",
    "    ticker=\"SHOPERSTOP.BSE\", n_days=5, success=True, forecast={}, message=\"success\"\n",
    ")\n",
    "print(po)"
   ]
  },
  {
   "cell_type": "markdown",
   "id": "6714e5fd",
   "metadata": {},
   "source": [
    "Up next, let's create the path. The good news is that we'll be able to reuse our `build_model` function."
   ]
  },
  {
   "cell_type": "markdown",
   "id": "66c22603",
   "metadata": {},
   "source": [
    "**Task 8.4.19:** Create a `\"/predict\"` path for your `app`. It will take a `PredictIn` object as input, build a `GarchModel`, load the most recent trained model for the given ticker, and generate a dictionary of predictions. It will then return a `PredictOut` object with the predictions included. Be sure to handle any errors that may arise.\n",
    "\n",
    "- [Create an application path in FastAPI.](../%40textbook/22-apis.ipynb#Creating-a-Path)"
   ]
  },
  {
   "cell_type": "markdown",
   "id": "4ad6a44c",
   "metadata": {},
   "source": [
    "Last step, let's see what happens when we make a `post` request..."
   ]
  },
  {
   "cell_type": "markdown",
   "id": "d4889ceb",
   "metadata": {},
   "source": [
    "**Task 8.4.20:** Create a `post` request to hit the `\"/predict\"` path running at `\"http://localhost:8008\"`. You should get the 5-day volatility forecast for Shoppers Stop. When you're satisfied, submit your work to the grader.\n",
    "\n",
    "- [What's an HTTP request?](../%40textbook/22-apis.ipynb#RESTful-APIs)\n",
    "- [Make an HTTP request using requests.](..//%40textbook/22-apis.ipynb#Making-an-HTTP-Request)"
   ]
  },
  {
   "cell_type": "code",
   "execution_count": null,
   "id": "1591dec5",
   "metadata": {},
   "outputs": [],
   "source": [
    "# URL of `/predict` path\n",
    "url = \"http://localhost:8008/predict\"\n",
    "# Data to send to path\n",
    "json = {\n",
    "    \"ticker\" : \"SHOPERSTOP.BSE\",\n",
    "    \"n_days\": 5\n",
    "}\n",
    "# Response of post request\n",
    "response = requests.post(url=url, json=json)\n",
    "# Response JSON to be submitted to grader\n",
    "submission = response.json()\n",
    "# Inspect JSON\n",
    "submission"
   ]
  },
  {
   "cell_type": "markdown",
   "id": "01a6a720",
   "metadata": {},
   "source": [
    "We did it! Better said, **you** did it. You got data from the AlphaVantage API, you stored it in a SQL database, you built and trained a GARCH model to predict volatility, and you created your own API to serve predictions from your model. That's data engineering, data science, and model deployment all in one project. If you haven't already, now's a good time to give yourself a pat on the back. You definitely deserve it."
   ]
  },
  {
   "cell_type": "code",
   "execution_count": null,
   "id": "c7e83abb",
   "metadata": {},
   "outputs": [],
   "source": []
  },
  {
   "cell_type": "code",
   "execution_count": null,
   "id": "6aebdf32",
   "metadata": {},
   "outputs": [],
   "source": []
  }
 ],
 "metadata": {
  "kernelspec": {
   "display_name": "Python 3 (ipykernel)",
   "language": "python",
   "name": "python3"
  },
  "language_info": {
   "codemirror_mode": {
    "name": "ipython",
    "version": 3
   },
   "file_extension": ".py",
   "mimetype": "text/x-python",
   "name": "python",
   "nbconvert_exporter": "python",
   "pygments_lexer": "ipython3",
   "version": "3.9.12"
  }
 },
 "nbformat": 4,
 "nbformat_minor": 5
}
