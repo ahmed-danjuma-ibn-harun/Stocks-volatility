{
 "cells": [
  {
   "cell_type": "markdown",
   "id": "0de95c8e",
   "metadata": {},
   "source": [
    "<font size=\"+3\"><strong>8.2. Test Driven Development</strong></font>"
   ]
  },
  {
   "cell_type": "markdown",
   "id": "7ecba44f",
   "metadata": {},
   "source": [
    "In the previous lesson, we learned how to get data from an API. In this lesson, we have two goals. First, we'll take the code we used to access the API and build an `AlphaVantageAPI` class. This will allow us to reuse our code. Second, we'll create a `SQLRepository` class that will help us load our stock data into a SQLite database and then extract it for later use. Additionally, we'll build this code using a technique called **test driven development**, where we'll use `assert` statements to make sure everything is working properly. That way, we'll avoid issues later when we build our application."
   ]
  },
  {
   "cell_type": "code",
   "execution_count": 1,
   "id": "e2d696a7",
   "metadata": {},
   "outputs": [],
   "source": [
    "%load_ext autoreload\n",
    "%load_ext sql\n",
    "%autoreload 2\n",
    "\n",
    "import sqlite3\n",
    "\n",
    "import matplotlib.pyplot as plt\n",
    "import pandas as pd\n",
    "\n",
    "from config import settings"
   ]
  },
  {
   "cell_type": "markdown",
   "id": "8c2ec2c8",
   "metadata": {},
   "source": [
    "# Building Our Data Module"
   ]
  },
  {
   "cell_type": "markdown",
   "id": "6e1d2456",
   "metadata": {},
   "source": [
    "For our application, we're going to keep all the classes we use to extract, transform, and load data in a single module that we'll call `data`."
   ]
  },
  {
   "cell_type": "markdown",
   "id": "9da4da52",
   "metadata": {},
   "source": [
    "## AlphaVantage API Class"
   ]
  },
  {
   "cell_type": "markdown",
   "id": "4cfd2b35",
   "metadata": {},
   "source": [
    "Let's get started by taking the code we created in the last lesson and incorporating it into a class that will be in charge of getting data from the AlphaVantage API."
   ]
  },
  {
   "cell_type": "markdown",
   "id": "456bfcf2",
   "metadata": {},
   "source": [
    "**Task 8.2.1:** In the `data` module, create a class definition for `AlphaVantageAPI`. For now, making sure that it has an `__init__` method that attaches your API key as the attribute `__api_key`. Once you're done, import the class below and create an instance of it called `av`.\n",
    "\n",
    "- [What's a class?](../%40textbook/21-python-object-oriented-programming.ipynb#Classes)\n",
    "- [Write a class definition in Python.](../%40textbook/21-python-object-oriented-programming.ipynb#Defining-a-Class)\n",
    "- [Write a class method in Python.](../%40textbook/21-python-object-oriented-programming.ipynb#Methods)"
   ]
  },
  {
   "cell_type": "code",
   "execution_count": 5,
   "id": "da8c9afc",
   "metadata": {},
   "outputs": [
    {
     "name": "stdout",
     "output_type": "stream",
     "text": [
      "av type: <class 'data.AlphaVantageAPI'>\n"
     ]
    }
   ],
   "source": [
    "# Import `AlphaVantageAPI`\n",
    "from data import AlphaVantageAPI\n",
    "\n",
    "# Create instance of `AlphaVantageAPI` class\n",
    "av = AlphaVantageAPI()\n",
    "\n",
    "print(\"av type:\", type(av))"
   ]
  },
  {
   "cell_type": "markdown",
   "id": "597975f7",
   "metadata": {},
   "source": [
    "Remember the `get_daily` function we made in the last lesson? Now we're going to turn it into a class method."
   ]
  },
  {
   "cell_type": "markdown",
   "id": "7fd25f42",
   "metadata": {},
   "source": [
    "**Task 8.2.2:** Create a `get_daily` method for your `AlphaVantageAPI` class. Once you're done, use the cell below to fetch the stock data for the renewable energy company [Suzlon](https://www.suzlon.com/) and assign it to the DataFrame `df_suzlon`.\n",
    "\n",
    "- [Write a class method in Python.](../%40textbook/21-python-object-oriented-programming.ipynb#Methods)"
   ]
  },
  {
   "cell_type": "code",
   "execution_count": 4,
   "id": "e44abbc8",
   "metadata": {},
   "outputs": [],
   "source": [
    "av.get_daily?"
   ]
  },
  {
   "cell_type": "code",
   "execution_count": 6,
   "id": "5f0575e4",
   "metadata": {},
   "outputs": [
    {
     "name": "stdout",
     "output_type": "stream",
     "text": [
      "df_suzlon type: <class 'pandas.core.frame.DataFrame'>\n",
      "df_suzlon shape: (4211, 8)\n"
     ]
    },
    {
     "data": {
      "text/html": [
       "<div>\n",
       "<style scoped>\n",
       "    .dataframe tbody tr th:only-of-type {\n",
       "        vertical-align: middle;\n",
       "    }\n",
       "\n",
       "    .dataframe tbody tr th {\n",
       "        vertical-align: top;\n",
       "    }\n",
       "\n",
       "    .dataframe thead th {\n",
       "        text-align: right;\n",
       "    }\n",
       "</style>\n",
       "<table border=\"1\" class=\"dataframe\">\n",
       "  <thead>\n",
       "    <tr style=\"text-align: right;\">\n",
       "      <th></th>\n",
       "      <th>open</th>\n",
       "      <th>high</th>\n",
       "      <th>low</th>\n",
       "      <th>close</th>\n",
       "      <th>adjusted close</th>\n",
       "      <th>volume</th>\n",
       "      <th>dividend amount</th>\n",
       "      <th>split coefficient</th>\n",
       "    </tr>\n",
       "    <tr>\n",
       "      <th>date</th>\n",
       "      <th></th>\n",
       "      <th></th>\n",
       "      <th></th>\n",
       "      <th></th>\n",
       "      <th></th>\n",
       "      <th></th>\n",
       "      <th></th>\n",
       "      <th></th>\n",
       "    </tr>\n",
       "  </thead>\n",
       "  <tbody>\n",
       "    <tr>\n",
       "      <th>2022-11-28</th>\n",
       "      <td>8.55</td>\n",
       "      <td>8.99</td>\n",
       "      <td>8.53</td>\n",
       "      <td>8.81</td>\n",
       "      <td>8.81</td>\n",
       "      <td>46018602.0</td>\n",
       "      <td>0.0</td>\n",
       "      <td>1.0</td>\n",
       "    </tr>\n",
       "    <tr>\n",
       "      <th>2022-11-25</th>\n",
       "      <td>7.86</td>\n",
       "      <td>8.70</td>\n",
       "      <td>7.85</td>\n",
       "      <td>8.47</td>\n",
       "      <td>8.47</td>\n",
       "      <td>29198018.0</td>\n",
       "      <td>0.0</td>\n",
       "      <td>1.0</td>\n",
       "    </tr>\n",
       "    <tr>\n",
       "      <th>2022-11-24</th>\n",
       "      <td>7.92</td>\n",
       "      <td>7.99</td>\n",
       "      <td>7.87</td>\n",
       "      <td>7.89</td>\n",
       "      <td>7.89</td>\n",
       "      <td>10920227.0</td>\n",
       "      <td>0.0</td>\n",
       "      <td>1.0</td>\n",
       "    </tr>\n",
       "    <tr>\n",
       "      <th>2022-11-23</th>\n",
       "      <td>8.02</td>\n",
       "      <td>8.08</td>\n",
       "      <td>7.81</td>\n",
       "      <td>7.93</td>\n",
       "      <td>7.93</td>\n",
       "      <td>14157605.0</td>\n",
       "      <td>0.0</td>\n",
       "      <td>1.0</td>\n",
       "    </tr>\n",
       "    <tr>\n",
       "      <th>2022-11-22</th>\n",
       "      <td>8.09</td>\n",
       "      <td>8.09</td>\n",
       "      <td>7.96</td>\n",
       "      <td>7.99</td>\n",
       "      <td>7.99</td>\n",
       "      <td>27355254.0</td>\n",
       "      <td>0.0</td>\n",
       "      <td>1.0</td>\n",
       "    </tr>\n",
       "  </tbody>\n",
       "</table>\n",
       "</div>"
      ],
      "text/plain": [
       "            open  high   low  close  adjusted close      volume  \\\n",
       "date                                                              \n",
       "2022-11-28  8.55  8.99  8.53   8.81            8.81  46018602.0   \n",
       "2022-11-25  7.86  8.70  7.85   8.47            8.47  29198018.0   \n",
       "2022-11-24  7.92  7.99  7.87   7.89            7.89  10920227.0   \n",
       "2022-11-23  8.02  8.08  7.81   7.93            7.93  14157605.0   \n",
       "2022-11-22  8.09  8.09  7.96   7.99            7.99  27355254.0   \n",
       "\n",
       "            dividend amount  split coefficient  \n",
       "date                                            \n",
       "2022-11-28              0.0                1.0  \n",
       "2022-11-25              0.0                1.0  \n",
       "2022-11-24              0.0                1.0  \n",
       "2022-11-23              0.0                1.0  \n",
       "2022-11-22              0.0                1.0  "
      ]
     },
     "execution_count": 6,
     "metadata": {},
     "output_type": "execute_result"
    }
   ],
   "source": [
    "# Define Suzlon ticker symbol\n",
    "ticker = \"SUZLON.BSE\"\n",
    "\n",
    "# Use your `av` object to get daily data\n",
    "df_suzlon = av.get_daily(ticker= ticker)\n",
    "\n",
    "print(\"df_suzlon type:\", type(df_suzlon))\n",
    "print(\"df_suzlon shape:\", df_suzlon.shape)\n",
    "df_suzlon.head()"
   ]
  },
  {
   "cell_type": "markdown",
   "id": "9d0492a8",
   "metadata": {},
   "source": [
    "Okay! The next thing we need to do is test our new method to make sure it works the way we want it to. Usually, these sorts of tests are written *before* writing the method, but, in this first case, we'll do it the other way around in order to get a better sense of how assert statements work."
   ]
  },
  {
   "cell_type": "markdown",
   "id": "5924179b",
   "metadata": {},
   "source": [
    "**Task 8.2.3:** Create four assert statements to test the output of your `get_daily` method. Use the comments below as a guide.\n",
    "\n",
    "- [What's an assert statement?](../%40textbook/02-python-advanced.ipynb#Testing-Code)\n",
    "- [Write an assert statement in Python.](../%40textbook/02-python-advanced.ipynb#Testing-Code)"
   ]
  },
  {
   "cell_type": "code",
   "execution_count": 7,
   "id": "cc90e9e4",
   "metadata": {},
   "outputs": [],
   "source": [
    "# Does `get_daily` return a DataFrame?\n",
    "assert isinstance(df_suzlon, pd.DataFrame)\n",
    "\n",
    "# Does DataFrame have 5 columns?\n",
    "assert df_suzlon.shape[1] == 8\n",
    "\n",
    "# Does DataFrame have a DatetimeIndex?\n",
    "assert isinstance(df_suzlon.index, pd.DatetimeIndex)\n",
    "\n",
    "# Is the index name \"date\"?\n",
    "assert df_suzlon.index.name == \"date\""
   ]
  },
  {
   "cell_type": "markdown",
   "id": "187a006e",
   "metadata": {},
   "source": [
    "**Task 8.2.4:** Create two more tests for the output of your `get_daily` method. Use the comments below as a guide.\n",
    "\n",
    "- [What's an assert statement?](../%40textbook/02-python-advanced.ipynb#Testing-Code)\n",
    "- [Write an assert statement in Python.](../%40textbook/02-python-advanced.ipynb#Testing-Code)"
   ]
  },
  {
   "cell_type": "code",
   "execution_count": 12,
   "id": "f8779ef1",
   "metadata": {},
   "outputs": [],
   "source": [
    "# Does DataFrame have correct column names?\n",
    "assert list(df_suzlon.columns) == ['open', 'high', 'low', 'close', 'adjusted close', 'volume', 'dividend amount','split coefficient']\n",
    "\n",
    "# Are columns correct data type?\n",
    "assert all(df_suzlon.dtypes == float)"
   ]
  },
  {
   "cell_type": "markdown",
   "id": "7c2710a6",
   "metadata": {},
   "source": [
    "Okay! Now that our `AlphaVantageAPI` is ready to get data, let's turn our focus to the class we'll need for storing our data in our SQLite database."
   ]
  },
  {
   "cell_type": "markdown",
   "id": "98f5ef0f",
   "metadata": {},
   "source": [
    "## SQL Repository Class"
   ]
  },
  {
   "cell_type": "markdown",
   "id": "dfe770cc",
   "metadata": {},
   "source": [
    "It wouldn't be efficient if our application needed to get data from the AlphaVantage API every time we wanted to explore our data or build a model, so we'll need to store our data in a database. Because our data is highly structured (each DataFrame we extract from AlphaVantage is always going to have the same five columns), it makes sense to use a SQL database.\n",
    "\n",
    "We'll use SQLite for our database. For consistency, this database will always have the same name, which we've stored in our `.env` file."
   ]
  },
  {
   "cell_type": "markdown",
   "id": "53e8cffb",
   "metadata": {},
   "source": [
    "**Task 8.2.5:** Connect to the database whose name is stored in the `.env` file for this project. Be sure to set the `check_same_thread` argument to `False`. Assign the connection to the variable `connection`.\n",
    "\n",
    "- [Open a connection to a SQL database using sqlite3.](../%40textbook/10-databases-sql.ipynb#sqlite3)"
   ]
  },
  {
   "cell_type": "code",
   "execution_count": 13,
   "id": "ef5ca389",
   "metadata": {},
   "outputs": [
    {
     "name": "stdout",
     "output_type": "stream",
     "text": [
      "connection type: <class 'sqlite3.Connection'>\n"
     ]
    }
   ],
   "source": [
    "connection = sqlite3.connect(database= settings.db_name, check_same_thread= False)\n",
    "\n",
    "print(\"connection type:\", type(connection))"
   ]
  },
  {
   "cell_type": "markdown",
   "id": "f726018b",
   "metadata": {},
   "source": [
    "We've got a connection, and now we need to start building the class that will handle all our transactions with the database. With this class, though, we're going to create our tests *before* writing the class definition."
   ]
  },
  {
   "cell_type": "markdown",
   "id": "c5726d8c",
   "metadata": {},
   "source": [
    "**Task 8.2.6:** Write two tests for the `SQLRepository` class, using the comments below as a guide.\n",
    "\n",
    "- [What's an assert statement?](../%40textbook/02-python-advanced.ipynb#Testing-Code)\n",
    "- [Write an assert statement in Python.](../%40textbook/02-python-advanced.ipynb#Testing-Code)"
   ]
  },
  {
   "cell_type": "code",
   "execution_count": 14,
   "id": "79e4b258",
   "metadata": {},
   "outputs": [],
   "source": [
    "# Import class definition\n",
    "from data import SQLRepository\n",
    "\n",
    "# Create instance of class\n",
    "repo = SQLRepository(connection= connection)\n",
    "\n",
    "# Does `repo` have a \"connection\" attribute?\n",
    "assert hasattr(repo, \"connection\")\n",
    "\n",
    "# Is the \"connection\" attribute a SQLite `Connection`?\n",
    "assert isinstance(repo.connection, sqlite3.Connection)"
   ]
  },
  {
   "cell_type": "markdown",
   "id": "710d6a10",
   "metadata": {},
   "source": [
    "**Task 8.2.7:** Create a definition for your `SQLRepository` class. For now, just complete the `__init__` method. Once you're done, use the code you wrote in the previous task to test it.\n",
    "\n",
    "- [What's a class?](../%40textbook/21-python-object-oriented-programming.ipynb#Classes)\n",
    "- [Write a class definition in Python.](../%40textbook/21-python-object-oriented-programming.ipynb#Defining-a-Class)\n",
    "- [Write a class method in Python.](../%40textbook/21-python-object-oriented-programming.ipynb#Methods)"
   ]
  },
  {
   "cell_type": "markdown",
   "id": "806e3cd2",
   "metadata": {},
   "source": [
    "The next method we need for the `SQLRepository` class is one that allows us to store information. In SQL talk, this is generally referred to as **inserting** tables into the database."
   ]
  },
  {
   "cell_type": "markdown",
   "id": "4fe395b2",
   "metadata": {},
   "source": [
    "**Task 8.2.8:** Add an `insert_table` method to your `SQLRepository` class. As a guide use the assert statements below and the docstring in the `data` module. When you're done, run the cell below to check your work.\n",
    "\n",
    "- [Write a class method in Python.](../%40textbook/21-python-object-oriented-programming.ipynb#Methods)"
   ]
  },
  {
   "cell_type": "code",
   "execution_count": 15,
   "id": "74d2a9ad",
   "metadata": {},
   "outputs": [],
   "source": [
    "response = repo.insert_table(table_name=ticker, records=df_suzlon, if_exists=\"replace\")\n",
    "\n",
    "# Does your method return a dictionary?\n",
    "assert isinstance(response, dict)\n",
    "\n",
    "# Are the keys of that dictionary correct?\n",
    "assert sorted(list(response.keys())) == [\"records_inserted\", \"transaction_successful\"]"
   ]
  },
  {
   "cell_type": "markdown",
   "id": "330b2c21",
   "metadata": {},
   "source": [
    "If our method is passing the assert statements, we know it's returning a record of the database transaction, but we still need to check whether the data has actually been added to the database."
   ]
  },
  {
   "cell_type": "markdown",
   "id": "fa83be7f",
   "metadata": {},
   "source": [
    "**Task 8.2.9:** Write a SQL query to get the **first five rows** of the table of Suzlon data you just inserted into the database.\n",
    "\n",
    "- [Write a basic query in SQL.](../%40textbook/10-databases-sql.ipynb#Querying-a-Database)"
   ]
  },
  {
   "cell_type": "code",
   "execution_count": 17,
   "id": "5168db3a",
   "metadata": {},
   "outputs": [
    {
     "name": "stdout",
     "output_type": "stream",
     "text": [
      "The sql extension is already loaded. To reload it, use:\n",
      "  %reload_ext sql\n"
     ]
    }
   ],
   "source": [
    "%load_ext sql\n",
    "%sql sqlite:///stocks.sqlite"
   ]
  },
  {
   "cell_type": "code",
   "execution_count": 18,
   "id": "2e4cd9ab",
   "metadata": {},
   "outputs": [
    {
     "name": "stdout",
     "output_type": "stream",
     "text": [
      " * sqlite:///stocks.sqlite\n",
      "Done.\n"
     ]
    },
    {
     "data": {
      "text/html": [
       "<table>\n",
       "    <tr>\n",
       "        <th>date</th>\n",
       "        <th>open</th>\n",
       "        <th>high</th>\n",
       "        <th>low</th>\n",
       "        <th>close</th>\n",
       "        <th>adjusted close</th>\n",
       "        <th>volume</th>\n",
       "        <th>dividend amount</th>\n",
       "        <th>split coefficient</th>\n",
       "    </tr>\n",
       "    <tr>\n",
       "        <td>2022-11-28 00:00:00</td>\n",
       "        <td>8.55</td>\n",
       "        <td>8.99</td>\n",
       "        <td>8.53</td>\n",
       "        <td>8.81</td>\n",
       "        <td>8.81</td>\n",
       "        <td>46018602.0</td>\n",
       "        <td>0.0</td>\n",
       "        <td>1.0</td>\n",
       "    </tr>\n",
       "    <tr>\n",
       "        <td>2022-11-25 00:00:00</td>\n",
       "        <td>7.86</td>\n",
       "        <td>8.7</td>\n",
       "        <td>7.85</td>\n",
       "        <td>8.47</td>\n",
       "        <td>8.47</td>\n",
       "        <td>29198018.0</td>\n",
       "        <td>0.0</td>\n",
       "        <td>1.0</td>\n",
       "    </tr>\n",
       "    <tr>\n",
       "        <td>2022-11-24 00:00:00</td>\n",
       "        <td>7.92</td>\n",
       "        <td>7.99</td>\n",
       "        <td>7.87</td>\n",
       "        <td>7.89</td>\n",
       "        <td>7.89</td>\n",
       "        <td>10920227.0</td>\n",
       "        <td>0.0</td>\n",
       "        <td>1.0</td>\n",
       "    </tr>\n",
       "    <tr>\n",
       "        <td>2022-11-23 00:00:00</td>\n",
       "        <td>8.02</td>\n",
       "        <td>8.08</td>\n",
       "        <td>7.81</td>\n",
       "        <td>7.93</td>\n",
       "        <td>7.93</td>\n",
       "        <td>14157605.0</td>\n",
       "        <td>0.0</td>\n",
       "        <td>1.0</td>\n",
       "    </tr>\n",
       "    <tr>\n",
       "        <td>2022-11-22 00:00:00</td>\n",
       "        <td>8.09</td>\n",
       "        <td>8.09</td>\n",
       "        <td>7.96</td>\n",
       "        <td>7.99</td>\n",
       "        <td>7.99</td>\n",
       "        <td>27355254.0</td>\n",
       "        <td>0.0</td>\n",
       "        <td>1.0</td>\n",
       "    </tr>\n",
       "</table>"
      ],
      "text/plain": [
       "[('2022-11-28 00:00:00', 8.55, 8.99, 8.53, 8.81, 8.81, 46018602.0, 0.0, 1.0),\n",
       " ('2022-11-25 00:00:00', 7.86, 8.7, 7.85, 8.47, 8.47, 29198018.0, 0.0, 1.0),\n",
       " ('2022-11-24 00:00:00', 7.92, 7.99, 7.87, 7.89, 7.89, 10920227.0, 0.0, 1.0),\n",
       " ('2022-11-23 00:00:00', 8.02, 8.08, 7.81, 7.93, 7.93, 14157605.0, 0.0, 1.0),\n",
       " ('2022-11-22 00:00:00', 8.09, 8.09, 7.96, 7.99, 7.99, 27355254.0, 0.0, 1.0)]"
      ]
     },
     "execution_count": 18,
     "metadata": {},
     "output_type": "execute_result"
    }
   ],
   "source": [
    "%%sql\n",
    "SELECT * \n",
    "FROM 'SUZLON.BSE'\n",
    "LIMIT 5"
   ]
  },
  {
   "cell_type": "markdown",
   "id": "426593cc",
   "metadata": {},
   "source": [
    "We can get **insert** data into our database, but let's not forget that we need to **read** data from it, too. Reading will be a little more complex than inserting, so let's start by writing code in this notebook before we incorporate it into our `SQLRepository` class."
   ]
  },
  {
   "cell_type": "markdown",
   "id": "d2aff7cd",
   "metadata": {},
   "source": [
    "**Task 8.2.10:** First, write a SQL query to get **all** the Suzlon data. Then use pandas to extract the data from the database and read it into a DataFrame, names `df_suzlon_test`.\n",
    "\n",
    "- [Write a basic query in SQL.](../%40textbook/10-databases-sql.ipynb#Querying-a-Database)\n",
    "- [Read SQL query into a DataFrame using pandas.](../%40textbook/10-databases-sql.ipynb#Using-pandas-with-SQL-Databases)"
   ]
  },
  {
   "cell_type": "code",
   "execution_count": 19,
   "id": "070918a6",
   "metadata": {},
   "outputs": [
    {
     "name": "stdout",
     "output_type": "stream",
     "text": [
      "df_suzlon_test type: <class 'pandas.core.frame.DataFrame'>\n",
      "\n",
      "<class 'pandas.core.frame.DataFrame'>\n",
      "DatetimeIndex: 4211 entries, 2022-11-28 to 2005-10-20\n",
      "Data columns (total 8 columns):\n",
      " #   Column             Non-Null Count  Dtype  \n",
      "---  ------             --------------  -----  \n",
      " 0   open               4211 non-null   float64\n",
      " 1   high               4211 non-null   float64\n",
      " 2   low                4211 non-null   float64\n",
      " 3   close              4211 non-null   float64\n",
      " 4   adjusted close     4211 non-null   float64\n",
      " 5   volume             4211 non-null   float64\n",
      " 6   dividend amount    4211 non-null   float64\n",
      " 7   split coefficient  4211 non-null   float64\n",
      "dtypes: float64(8)\n",
      "memory usage: 296.1 KB\n",
      "None\n"
     ]
    },
    {
     "data": {
      "text/html": [
       "<div>\n",
       "<style scoped>\n",
       "    .dataframe tbody tr th:only-of-type {\n",
       "        vertical-align: middle;\n",
       "    }\n",
       "\n",
       "    .dataframe tbody tr th {\n",
       "        vertical-align: top;\n",
       "    }\n",
       "\n",
       "    .dataframe thead th {\n",
       "        text-align: right;\n",
       "    }\n",
       "</style>\n",
       "<table border=\"1\" class=\"dataframe\">\n",
       "  <thead>\n",
       "    <tr style=\"text-align: right;\">\n",
       "      <th></th>\n",
       "      <th>open</th>\n",
       "      <th>high</th>\n",
       "      <th>low</th>\n",
       "      <th>close</th>\n",
       "      <th>adjusted close</th>\n",
       "      <th>volume</th>\n",
       "      <th>dividend amount</th>\n",
       "      <th>split coefficient</th>\n",
       "    </tr>\n",
       "    <tr>\n",
       "      <th>date</th>\n",
       "      <th></th>\n",
       "      <th></th>\n",
       "      <th></th>\n",
       "      <th></th>\n",
       "      <th></th>\n",
       "      <th></th>\n",
       "      <th></th>\n",
       "      <th></th>\n",
       "    </tr>\n",
       "  </thead>\n",
       "  <tbody>\n",
       "    <tr>\n",
       "      <th>2022-11-28</th>\n",
       "      <td>8.55</td>\n",
       "      <td>8.99</td>\n",
       "      <td>8.53</td>\n",
       "      <td>8.81</td>\n",
       "      <td>8.81</td>\n",
       "      <td>46018602.0</td>\n",
       "      <td>0.0</td>\n",
       "      <td>1.0</td>\n",
       "    </tr>\n",
       "    <tr>\n",
       "      <th>2022-11-25</th>\n",
       "      <td>7.86</td>\n",
       "      <td>8.70</td>\n",
       "      <td>7.85</td>\n",
       "      <td>8.47</td>\n",
       "      <td>8.47</td>\n",
       "      <td>29198018.0</td>\n",
       "      <td>0.0</td>\n",
       "      <td>1.0</td>\n",
       "    </tr>\n",
       "    <tr>\n",
       "      <th>2022-11-24</th>\n",
       "      <td>7.92</td>\n",
       "      <td>7.99</td>\n",
       "      <td>7.87</td>\n",
       "      <td>7.89</td>\n",
       "      <td>7.89</td>\n",
       "      <td>10920227.0</td>\n",
       "      <td>0.0</td>\n",
       "      <td>1.0</td>\n",
       "    </tr>\n",
       "    <tr>\n",
       "      <th>2022-11-23</th>\n",
       "      <td>8.02</td>\n",
       "      <td>8.08</td>\n",
       "      <td>7.81</td>\n",
       "      <td>7.93</td>\n",
       "      <td>7.93</td>\n",
       "      <td>14157605.0</td>\n",
       "      <td>0.0</td>\n",
       "      <td>1.0</td>\n",
       "    </tr>\n",
       "    <tr>\n",
       "      <th>2022-11-22</th>\n",
       "      <td>8.09</td>\n",
       "      <td>8.09</td>\n",
       "      <td>7.96</td>\n",
       "      <td>7.99</td>\n",
       "      <td>7.99</td>\n",
       "      <td>27355254.0</td>\n",
       "      <td>0.0</td>\n",
       "      <td>1.0</td>\n",
       "    </tr>\n",
       "  </tbody>\n",
       "</table>\n",
       "</div>"
      ],
      "text/plain": [
       "            open  high   low  close  adjusted close      volume  \\\n",
       "date                                                              \n",
       "2022-11-28  8.55  8.99  8.53   8.81            8.81  46018602.0   \n",
       "2022-11-25  7.86  8.70  7.85   8.47            8.47  29198018.0   \n",
       "2022-11-24  7.92  7.99  7.87   7.89            7.89  10920227.0   \n",
       "2022-11-23  8.02  8.08  7.81   7.93            7.93  14157605.0   \n",
       "2022-11-22  8.09  8.09  7.96   7.99            7.99  27355254.0   \n",
       "\n",
       "            dividend amount  split coefficient  \n",
       "date                                            \n",
       "2022-11-28              0.0                1.0  \n",
       "2022-11-25              0.0                1.0  \n",
       "2022-11-24              0.0                1.0  \n",
       "2022-11-23              0.0                1.0  \n",
       "2022-11-22              0.0                1.0  "
      ]
     },
     "execution_count": 19,
     "metadata": {},
     "output_type": "execute_result"
    }
   ],
   "source": [
    "sql = \"SELECT * FROM 'SUZLON.BSE'\"\n",
    "df_suzlon_test = pd.read_sql(\n",
    "    sql= sql, con=connection, parse_dates= [\"date\"], index_col = \"date\"\n",
    ")\n",
    "\n",
    "print(\"df_suzlon_test type:\", type(df_suzlon_test))\n",
    "print()\n",
    "print(df_suzlon_test.info())\n",
    "df_suzlon_test.head()"
   ]
  },
  {
   "cell_type": "markdown",
   "id": "3989a635",
   "metadata": {},
   "source": [
    "Now that we know how to read a table from our database, let's turn our code into a proper function. But since we're doing backwards designs, we need to start with our tests."
   ]
  },
  {
   "cell_type": "markdown",
   "id": "0dcfeefa",
   "metadata": {},
   "source": [
    "**Task 8.2.11:** <a id=\"task-8211\"></a>Complete the assert statements below to test your `read_table` function. Use the comments as a guide.\n",
    "\n",
    "- [What's an assert statement?](../%40textbook/02-python-advanced.ipynb#Testing-Code)\n",
    "- [Write an assert statement in Python.](../%40textbook/02-python-advanced.ipynb#Testing-Code)"
   ]
  },
  {
   "cell_type": "code",
   "execution_count": 22,
   "id": "5017f86c",
   "metadata": {},
   "outputs": [
    {
     "name": "stdout",
     "output_type": "stream",
     "text": [
      "df_suzlon shape: (2500, 8)\n",
      "\n",
      "<class 'pandas.core.frame.DataFrame'>\n",
      "DatetimeIndex: 2500 entries, 2022-11-28 to 2012-09-28\n",
      "Data columns (total 8 columns):\n",
      " #   Column             Non-Null Count  Dtype  \n",
      "---  ------             --------------  -----  \n",
      " 0   open               2500 non-null   float64\n",
      " 1   high               2500 non-null   float64\n",
      " 2   low                2500 non-null   float64\n",
      " 3   close              2500 non-null   float64\n",
      " 4   adjusted close     2500 non-null   float64\n",
      " 5   volume             2500 non-null   float64\n",
      " 6   dividend amount    2500 non-null   float64\n",
      " 7   split coefficient  2500 non-null   float64\n",
      "dtypes: float64(8)\n",
      "memory usage: 175.8 KB\n",
      "None\n"
     ]
    },
    {
     "data": {
      "text/html": [
       "<div>\n",
       "<style scoped>\n",
       "    .dataframe tbody tr th:only-of-type {\n",
       "        vertical-align: middle;\n",
       "    }\n",
       "\n",
       "    .dataframe tbody tr th {\n",
       "        vertical-align: top;\n",
       "    }\n",
       "\n",
       "    .dataframe thead th {\n",
       "        text-align: right;\n",
       "    }\n",
       "</style>\n",
       "<table border=\"1\" class=\"dataframe\">\n",
       "  <thead>\n",
       "    <tr style=\"text-align: right;\">\n",
       "      <th></th>\n",
       "      <th>open</th>\n",
       "      <th>high</th>\n",
       "      <th>low</th>\n",
       "      <th>close</th>\n",
       "      <th>adjusted close</th>\n",
       "      <th>volume</th>\n",
       "      <th>dividend amount</th>\n",
       "      <th>split coefficient</th>\n",
       "    </tr>\n",
       "    <tr>\n",
       "      <th>date</th>\n",
       "      <th></th>\n",
       "      <th></th>\n",
       "      <th></th>\n",
       "      <th></th>\n",
       "      <th></th>\n",
       "      <th></th>\n",
       "      <th></th>\n",
       "      <th></th>\n",
       "    </tr>\n",
       "  </thead>\n",
       "  <tbody>\n",
       "    <tr>\n",
       "      <th>2022-11-28</th>\n",
       "      <td>8.55</td>\n",
       "      <td>8.99</td>\n",
       "      <td>8.53</td>\n",
       "      <td>8.81</td>\n",
       "      <td>8.81</td>\n",
       "      <td>46018602.0</td>\n",
       "      <td>0.0</td>\n",
       "      <td>1.0</td>\n",
       "    </tr>\n",
       "    <tr>\n",
       "      <th>2022-11-25</th>\n",
       "      <td>7.86</td>\n",
       "      <td>8.70</td>\n",
       "      <td>7.85</td>\n",
       "      <td>8.47</td>\n",
       "      <td>8.47</td>\n",
       "      <td>29198018.0</td>\n",
       "      <td>0.0</td>\n",
       "      <td>1.0</td>\n",
       "    </tr>\n",
       "    <tr>\n",
       "      <th>2022-11-24</th>\n",
       "      <td>7.92</td>\n",
       "      <td>7.99</td>\n",
       "      <td>7.87</td>\n",
       "      <td>7.89</td>\n",
       "      <td>7.89</td>\n",
       "      <td>10920227.0</td>\n",
       "      <td>0.0</td>\n",
       "      <td>1.0</td>\n",
       "    </tr>\n",
       "    <tr>\n",
       "      <th>2022-11-23</th>\n",
       "      <td>8.02</td>\n",
       "      <td>8.08</td>\n",
       "      <td>7.81</td>\n",
       "      <td>7.93</td>\n",
       "      <td>7.93</td>\n",
       "      <td>14157605.0</td>\n",
       "      <td>0.0</td>\n",
       "      <td>1.0</td>\n",
       "    </tr>\n",
       "    <tr>\n",
       "      <th>2022-11-22</th>\n",
       "      <td>8.09</td>\n",
       "      <td>8.09</td>\n",
       "      <td>7.96</td>\n",
       "      <td>7.99</td>\n",
       "      <td>7.99</td>\n",
       "      <td>27355254.0</td>\n",
       "      <td>0.0</td>\n",
       "      <td>1.0</td>\n",
       "    </tr>\n",
       "  </tbody>\n",
       "</table>\n",
       "</div>"
      ],
      "text/plain": [
       "            open  high   low  close  adjusted close      volume  \\\n",
       "date                                                              \n",
       "2022-11-28  8.55  8.99  8.53   8.81            8.81  46018602.0   \n",
       "2022-11-25  7.86  8.70  7.85   8.47            8.47  29198018.0   \n",
       "2022-11-24  7.92  7.99  7.87   7.89            7.89  10920227.0   \n",
       "2022-11-23  8.02  8.08  7.81   7.93            7.93  14157605.0   \n",
       "2022-11-22  8.09  8.09  7.96   7.99            7.99  27355254.0   \n",
       "\n",
       "            dividend amount  split coefficient  \n",
       "date                                            \n",
       "2022-11-28              0.0                1.0  \n",
       "2022-11-25              0.0                1.0  \n",
       "2022-11-24              0.0                1.0  \n",
       "2022-11-23              0.0                1.0  \n",
       "2022-11-22              0.0                1.0  "
      ]
     },
     "execution_count": 22,
     "metadata": {},
     "output_type": "execute_result"
    }
   ],
   "source": [
    "# Assign `read_table` output to `df_suzlon`\n",
    "df_suzlon = repo.read_table(table_name=\"SUZLON.BSE\", limit=2500)  # noQA F821\n",
    "\n",
    "# Is `df_suzlon` a DataFrame?\n",
    "assert isinstance(df_suzlon, pd.DataFrame)\n",
    "\n",
    "# Does it have a `DatetimeIndex`?\n",
    "assert isinstance(df_suzlon.index, pd.DatetimeIndex)\n",
    "\n",
    "# Is the index named \"date\"?\n",
    "assert df_suzlon.index.name == \"date\"\n",
    "\n",
    "# Does it have 2,500 rows and 5 columns?\n",
    "assert df_suzlon.shape == (2500, 8)\n",
    "\n",
    "# Are the column names correct?\n",
    "assert list(df_suzlon.columns) == ['open', 'high', 'low', 'close', 'adjusted close', 'volume', 'dividend amount','split coefficient']\n",
    "\n",
    "# Are the column data types correct?\n",
    "assert all(df_suzlon.dtypes == float)\n",
    "\n",
    "# Print `df_suzlon` info\n",
    "print(\"df_suzlon shape:\", df_suzlon.shape)\n",
    "print()\n",
    "print(df_suzlon.info())\n",
    "df_suzlon.head()"
   ]
  },
  {
   "cell_type": "markdown",
   "id": "e0d1f2d0",
   "metadata": {},
   "source": [
    "**Task 8.2.12:** Expand on the code you're written above to complete the `read_table` function below. Use the docstring as a guide.\n",
    "\n",
    "- [What's a function?](../%40textbook/02-python-advanced.ipynb#Functions)\n",
    "- [Write a function in Python.](../%40textbook/02-python-advanced.ipynb#Functions)\n",
    "- [Write a basic query in SQL.](../%40textbook/10-databases-sql.ipynb#Querying-a-Database)"
   ]
  },
  {
   "cell_type": "code",
   "execution_count": 23,
   "id": "41a9599c",
   "metadata": {},
   "outputs": [],
   "source": [
    "def read_table(table_name, limit= None):\n",
    "\n",
    "    \"\"\"Read table from database.\n",
    "\n",
    "    Parameters\n",
    "    ----------\n",
    "    table_name : str\n",
    "        Name of table in SQLite database.\n",
    "    limit : int, None, optional\n",
    "        Number of most recent records to retrieve. If `None`, all\n",
    "        records are retrieved. By default, `None`.\n",
    "\n",
    "    Returns\n",
    "    -------\n",
    "    pd.DataFrame\n",
    "        Index is DatetimeIndex \"date\". Columns are 'open', 'high',\n",
    "        'low', 'close', and 'volume'. All columns are numeric.\n",
    "    \"\"\"\n",
    "    # Create SQL query (with optional limit)\n",
    "    if limit:\n",
    "        sql = f\"SELECT * FROM '{table_name}' LIMIT {limit}\"\n",
    "    else:\n",
    "        sql = f\"SELECT * FROM '{table_name}'\"\n",
    "    \n",
    "\n",
    "    # Retrieve data, read into DataFrame\n",
    "    df = pd.read_sql(\n",
    "        sql= sql, con=connection, parse_dates= [\"date\"], index_col = \"date\"\n",
    "    )\n",
    "\n",
    "\n",
    "    # Return DataFrame\n",
    "    return df"
   ]
  },
  {
   "cell_type": "markdown",
   "id": "76410fca",
   "metadata": {},
   "source": [
    "**Task 8.2.13:** Turn the `read_table` function into a method for your `SQLRepository` class.\n",
    "\n",
    "- [Write a class method in Python.](../%40textbook/21-python-object-oriented-programming.ipynb#Methods)"
   ]
  },
  {
   "cell_type": "markdown",
   "id": "564ae919",
   "metadata": {},
   "source": [
    "**Task 8.2.14:** Return to task <a href=\"#task-8211\">Task 8.2.11</a> and change the code so that you're testing your class method instead of your notebook function.\n",
    "\n",
    "- [What's an assert statement?](../%40textbook/02-python-advanced.ipynb#Testing-Code)\n",
    "- [Write an assert statement in Python.](../%40textbook/02-python-advanced.ipynb#Testing-Code)"
   ]
  },
  {
   "cell_type": "markdown",
   "id": "c917c309",
   "metadata": {},
   "source": [
    "Excellent! We have everything we need to get data from AlphaVantage, save that data in our database, and access it later on. Now it's time to do a little exploratory analysis to compare the stocks of the two companies we have data for. "
   ]
  },
  {
   "cell_type": "markdown",
   "id": "3713e831",
   "metadata": {},
   "source": [
    "# Comparing Stock Returns"
   ]
  },
  {
   "cell_type": "markdown",
   "id": "f0dd4078",
   "metadata": {},
   "source": [
    "We already have the data for Suzlon Energy in our database, but we need to add the data for Ambuja Cement before we can compare the two stocks."
   ]
  },
  {
   "cell_type": "markdown",
   "id": "62c7ea0d",
   "metadata": {},
   "source": [
    "**Task 8.2.15:** Use the instances of the `AlphaVantageAPI` and `SQLRepository` classes you created in this lesson (`av` and `repo`, respectively) to get the stock data for Ambuja Cement and read it into the database.\n",
    "\n",
    "- [Write a basic query in SQL.](../%40textbook/10-databases-sql.ipynb#Querying-a-Database)\n",
    "- [Read SQL query into a DataFrame using pandas.](../%40textbook/10-databases-sql.ipynb#Using-pandas-with-SQL-Databases)"
   ]
  },
  {
   "cell_type": "code",
   "execution_count": 24,
   "id": "62c64e7c",
   "metadata": {},
   "outputs": [
    {
     "data": {
      "text/plain": [
       "{'transaction_successful': True, 'records_inserted': 4411}"
      ]
     },
     "execution_count": 24,
     "metadata": {},
     "output_type": "execute_result"
    }
   ],
   "source": [
    "ticker = \"AMBUJACEM.BSE\"\n",
    "\n",
    "# Get Ambuja data using `av`\n",
    "ambuja_records = av.get_daily(ticker = ticker)\n",
    "\n",
    "# Insert `ambuja_records` database using `repo`\n",
    "response = repo.insert_table(\n",
    "    table_name=ticker, records=ambuja_records, if_exists=\"replace\"\n",
    ")\n",
    "\n",
    "response"
   ]
  },
  {
   "cell_type": "markdown",
   "id": "db5983a3",
   "metadata": {},
   "source": [
    "**Task 8.2.16:** Using the `read_table` method you've added to your `SQLRepository`, extract the most recent 2,500 rows of data for Ambuja Cement from the database and assign the result to `df_ambuja`.\n",
    "\n",
    "- [Write a basic query in SQL.](../%40textbook/10-databases-sql.ipynb#Querying-a-Database)\n",
    "- [Read SQL query into a DataFrame using pandas.](../%40textbook/10-databases-sql.ipynb#Using-pandas-with-SQL-Databases)"
   ]
  },
  {
   "cell_type": "code",
   "execution_count": 25,
   "id": "ece81b86",
   "metadata": {},
   "outputs": [
    {
     "name": "stdout",
     "output_type": "stream",
     "text": [
      "df_ambuja type: <class 'pandas.core.frame.DataFrame'>\n",
      "df_ambuja shape: (2500, 8)\n"
     ]
    },
    {
     "data": {
      "text/html": [
       "<div>\n",
       "<style scoped>\n",
       "    .dataframe tbody tr th:only-of-type {\n",
       "        vertical-align: middle;\n",
       "    }\n",
       "\n",
       "    .dataframe tbody tr th {\n",
       "        vertical-align: top;\n",
       "    }\n",
       "\n",
       "    .dataframe thead th {\n",
       "        text-align: right;\n",
       "    }\n",
       "</style>\n",
       "<table border=\"1\" class=\"dataframe\">\n",
       "  <thead>\n",
       "    <tr style=\"text-align: right;\">\n",
       "      <th></th>\n",
       "      <th>open</th>\n",
       "      <th>high</th>\n",
       "      <th>low</th>\n",
       "      <th>close</th>\n",
       "      <th>adjusted close</th>\n",
       "      <th>volume</th>\n",
       "      <th>dividend amount</th>\n",
       "      <th>split coefficient</th>\n",
       "    </tr>\n",
       "    <tr>\n",
       "      <th>date</th>\n",
       "      <th></th>\n",
       "      <th></th>\n",
       "      <th></th>\n",
       "      <th></th>\n",
       "      <th></th>\n",
       "      <th></th>\n",
       "      <th></th>\n",
       "      <th></th>\n",
       "    </tr>\n",
       "  </thead>\n",
       "  <tbody>\n",
       "    <tr>\n",
       "      <th>2022-11-28</th>\n",
       "      <td>564.00</td>\n",
       "      <td>572.45</td>\n",
       "      <td>563.20</td>\n",
       "      <td>568.80</td>\n",
       "      <td>568.80</td>\n",
       "      <td>162793.0</td>\n",
       "      <td>0.0</td>\n",
       "      <td>1.0</td>\n",
       "    </tr>\n",
       "    <tr>\n",
       "      <th>2022-11-25</th>\n",
       "      <td>559.55</td>\n",
       "      <td>567.60</td>\n",
       "      <td>557.10</td>\n",
       "      <td>564.85</td>\n",
       "      <td>564.85</td>\n",
       "      <td>117173.0</td>\n",
       "      <td>0.0</td>\n",
       "      <td>1.0</td>\n",
       "    </tr>\n",
       "    <tr>\n",
       "      <th>2022-11-24</th>\n",
       "      <td>563.25</td>\n",
       "      <td>567.15</td>\n",
       "      <td>554.60</td>\n",
       "      <td>557.10</td>\n",
       "      <td>557.10</td>\n",
       "      <td>192331.0</td>\n",
       "      <td>0.0</td>\n",
       "      <td>1.0</td>\n",
       "    </tr>\n",
       "    <tr>\n",
       "      <th>2022-11-23</th>\n",
       "      <td>566.40</td>\n",
       "      <td>570.95</td>\n",
       "      <td>560.15</td>\n",
       "      <td>562.20</td>\n",
       "      <td>562.20</td>\n",
       "      <td>131759.0</td>\n",
       "      <td>0.0</td>\n",
       "      <td>1.0</td>\n",
       "    </tr>\n",
       "    <tr>\n",
       "      <th>2022-11-22</th>\n",
       "      <td>562.10</td>\n",
       "      <td>578.35</td>\n",
       "      <td>560.40</td>\n",
       "      <td>565.85</td>\n",
       "      <td>565.85</td>\n",
       "      <td>240283.0</td>\n",
       "      <td>0.0</td>\n",
       "      <td>1.0</td>\n",
       "    </tr>\n",
       "  </tbody>\n",
       "</table>\n",
       "</div>"
      ],
      "text/plain": [
       "              open    high     low   close  adjusted close    volume  \\\n",
       "date                                                                   \n",
       "2022-11-28  564.00  572.45  563.20  568.80          568.80  162793.0   \n",
       "2022-11-25  559.55  567.60  557.10  564.85          564.85  117173.0   \n",
       "2022-11-24  563.25  567.15  554.60  557.10          557.10  192331.0   \n",
       "2022-11-23  566.40  570.95  560.15  562.20          562.20  131759.0   \n",
       "2022-11-22  562.10  578.35  560.40  565.85          565.85  240283.0   \n",
       "\n",
       "            dividend amount  split coefficient  \n",
       "date                                            \n",
       "2022-11-28              0.0                1.0  \n",
       "2022-11-25              0.0                1.0  \n",
       "2022-11-24              0.0                1.0  \n",
       "2022-11-23              0.0                1.0  \n",
       "2022-11-22              0.0                1.0  "
      ]
     },
     "execution_count": 25,
     "metadata": {},
     "output_type": "execute_result"
    }
   ],
   "source": [
    "ticker = \"AMBUJACEM.BSE\"\n",
    "df_ambuja = repo.read_table(table_name= ticker, limit = 2500)\n",
    "\n",
    "print(\"df_ambuja type:\", type(df_ambuja))\n",
    "print(\"df_ambuja shape:\", df_ambuja.shape)\n",
    "df_ambuja.head()"
   ]
  },
  {
   "cell_type": "markdown",
   "id": "55a0e296",
   "metadata": {},
   "source": [
    "We've spent a lot of time so far looking at this data, but what does it actually represent? It turns out the stock market is a lot like any other market: people buy and sell goods. The prices of those goods can go up or down depending on factors like supply and demand. In the case of a stock market, the goods being sold are stocks (also called equities or securities), which represent an ownership stake in a corporation.\n",
    "\n",
    "During each trading day, the price of a stock will change, so when we're looking at whether a stock might be a good investment, we look at four types of numbers: open, high, low, close, volume. **Open** is exactly what it sounds like: the selling price of a share when the market opens for the day. Similarly, **close** is the selling price of a share when the market closes at the end of the day, and **high** and **low** are the respective maximum and minimum prices of a share over the course of the day. **Volume** is the number of shares of a given stock that have been bought and sold that day. Generally speaking, a firm whose shares have seen a high volume of trading will see more price variation of the course of the day than a firm whose shares have been more lightly traded.\n",
    "\n",
    "Let's visualize how the price of Ambuja Cement changes over the last decade."
   ]
  },
  {
   "cell_type": "markdown",
   "id": "eecc474e",
   "metadata": {},
   "source": [
    "**Task 8.2.17:** Plot the closing price of `df_ambuja`. Be sure to label your axes and include a legend.\n",
    "\n",
    "- [Make a line plot with time series data in pandas.](../%40textbook/07-visualization-pandas.ipynb#Line-Plots)"
   ]
  },
  {
   "cell_type": "code",
   "execution_count": 26,
   "id": "0a7800ad",
   "metadata": {},
   "outputs": [
    {
     "data": {
      "image/png": "[encoded data removed]",
      "text/plain": [
       "<Figure size 1080x432 with 1 Axes>"
      ]
     },
     "metadata": {
      "needs_background": "light"
     },
     "output_type": "display_data"
    }
   ],
   "source": [
    "fig, ax = plt.subplots(figsize=(15, 6))\n",
    "# Plot `df_ambuja` closing price\n",
    "df_ambuja[\"close\"].plot(ax=ax, label = \"AMBUJACEM\", color= \"C1\")\n",
    "\n",
    "# Label axes\n",
    "plt.xlabel(\"Date\")\n",
    "plt.ylabel(\"Closing Price\")\n",
    "\n",
    "# Add legend\n",
    "plt.legend();"
   ]
  },
  {
   "cell_type": "markdown",
   "id": "d0b5fc6d",
   "metadata": {},
   "source": [
    "**Task 8.2.18:** Create a plot that shows the closing prices of `df_suzlon` and `df_ambuja`. Again, label your axes and include a legend.\n",
    "\n",
    "- [Make a line plot with time series data in pandas.](../%40textbook/07-visualization-pandas.ipynb#Line-Plots)"
   ]
  },
  {
   "cell_type": "code",
   "execution_count": 27,
   "id": "aac3fafc",
   "metadata": {},
   "outputs": [
    {
     "data": {
      "image/png": "[encoded data removed]",
      "text/plain": [
       "<Figure size 1080x432 with 1 Axes>"
      ]
     },
     "metadata": {
      "needs_background": "light"
     },
     "output_type": "display_data"
    }
   ],
   "source": [
    "fig, ax = plt.subplots(figsize=(15, 6))\n",
    "# Plot `df_suzlon` and `df_ambuja`\n",
    "df_suzlon[\"close\"].plot(ax=ax, label = \"SUZLON\")\n",
    "df_ambuja[\"close\"].plot(ax=ax, label = \"AMBUJACEM\", color= \"C1\")\n",
    "\n",
    "# Label axes\n",
    "plt.xlabel(\"Date\")\n",
    "plt.ylabel(\"Closing Price\")\n",
    "plt.title(\"STOCK CLOSING PRICE\")\n",
    "# Add legend\n",
    "plt.legend();"
   ]
  },
  {
   "cell_type": "markdown",
   "id": "955bbe54",
   "metadata": {},
   "source": [
    "Looking at this plot, we might conclude that Ambuja Cement is a \"better\" stock than Suzlon energy because its price is higher. But price is just one factor that an investor must consider when creating an investment strategy. What is definitely true is that it's hard to do a head-to-head comparison of these two stocks because there's such a large price difference.\n",
    "\n",
    "One way in which investors compare stocks is by looking at their **returns** instead. A return is the change in value in an investment, represented as a percentage. So let's look at the daily returns for our two stocks."
   ]
  },
  {
   "cell_type": "markdown",
   "id": "bce2da96",
   "metadata": {},
   "source": [
    "**Task 8.2.19:** Add a `\"return\"` column to `df_ambuja` that shows the percentage change in the `\"close\"` column from one day to the next.\n",
    "\n",
    "- [Calculate the percentage change of a column using pandas.](../%40textbook/18-ts-models.ipynb#Calculating-Returns)\n",
    "- [Create new columns derived from existing columns in a DataFrame using pandas.](../%40textbook/03-pandas-getting-started.ipynb#Adding-Columns)"
   ]
  },
  {
   "cell_type": "code",
   "execution_count": 28,
   "id": "f5a50159",
   "metadata": {},
   "outputs": [
    {
     "name": "stdout",
     "output_type": "stream",
     "text": [
      "df_ambuja shape: (2500, 9)\n",
      "<class 'pandas.core.frame.DataFrame'>\n",
      "DatetimeIndex: 2500 entries, 2012-09-28 to 2022-11-28\n",
      "Data columns (total 9 columns):\n",
      " #   Column             Non-Null Count  Dtype  \n",
      "---  ------             --------------  -----  \n",
      " 0   open               2500 non-null   float64\n",
      " 1   high               2500 non-null   float64\n",
      " 2   low                2500 non-null   float64\n",
      " 3   close              2500 non-null   float64\n",
      " 4   adjusted close     2500 non-null   float64\n",
      " 5   volume             2500 non-null   float64\n",
      " 6   dividend amount    2500 non-null   float64\n",
      " 7   split coefficient  2500 non-null   float64\n",
      " 8   return             2499 non-null   float64\n",
      "dtypes: float64(9)\n",
      "memory usage: 195.3 KB\n",
      "None\n"
     ]
    },
    {
     "data": {
      "text/html": [
       "<div>\n",
       "<style scoped>\n",
       "    .dataframe tbody tr th:only-of-type {\n",
       "        vertical-align: middle;\n",
       "    }\n",
       "\n",
       "    .dataframe tbody tr th {\n",
       "        vertical-align: top;\n",
       "    }\n",
       "\n",
       "    .dataframe thead th {\n",
       "        text-align: right;\n",
       "    }\n",
       "</style>\n",
       "<table border=\"1\" class=\"dataframe\">\n",
       "  <thead>\n",
       "    <tr style=\"text-align: right;\">\n",
       "      <th></th>\n",
       "      <th>open</th>\n",
       "      <th>high</th>\n",
       "      <th>low</th>\n",
       "      <th>close</th>\n",
       "      <th>adjusted close</th>\n",
       "      <th>volume</th>\n",
       "      <th>dividend amount</th>\n",
       "      <th>split coefficient</th>\n",
       "      <th>return</th>\n",
       "    </tr>\n",
       "    <tr>\n",
       "      <th>date</th>\n",
       "      <th></th>\n",
       "      <th></th>\n",
       "      <th></th>\n",
       "      <th></th>\n",
       "      <th></th>\n",
       "      <th></th>\n",
       "      <th></th>\n",
       "      <th></th>\n",
       "      <th></th>\n",
       "    </tr>\n",
       "  </thead>\n",
       "  <tbody>\n",
       "    <tr>\n",
       "      <th>2012-09-28</th>\n",
       "      <td>203.00</td>\n",
       "      <td>204.45</td>\n",
       "      <td>200.90</td>\n",
       "      <td>201.95</td>\n",
       "      <td>163.7532</td>\n",
       "      <td>206409.0</td>\n",
       "      <td>0.0</td>\n",
       "      <td>1.0</td>\n",
       "      <td>NaN</td>\n",
       "    </tr>\n",
       "    <tr>\n",
       "      <th>2012-10-01</th>\n",
       "      <td>202.75</td>\n",
       "      <td>210.10</td>\n",
       "      <td>202.25</td>\n",
       "      <td>209.15</td>\n",
       "      <td>169.5914</td>\n",
       "      <td>475639.0</td>\n",
       "      <td>0.0</td>\n",
       "      <td>1.0</td>\n",
       "      <td>3.565239</td>\n",
       "    </tr>\n",
       "    <tr>\n",
       "      <th>2012-10-03</th>\n",
       "      <td>212.00</td>\n",
       "      <td>215.95</td>\n",
       "      <td>210.60</td>\n",
       "      <td>214.20</td>\n",
       "      <td>173.6862</td>\n",
       "      <td>1003020.0</td>\n",
       "      <td>0.0</td>\n",
       "      <td>1.0</td>\n",
       "      <td>2.414535</td>\n",
       "    </tr>\n",
       "    <tr>\n",
       "      <th>2012-10-04</th>\n",
       "      <td>216.50</td>\n",
       "      <td>220.20</td>\n",
       "      <td>215.15</td>\n",
       "      <td>217.35</td>\n",
       "      <td>176.2404</td>\n",
       "      <td>512979.0</td>\n",
       "      <td>0.0</td>\n",
       "      <td>1.0</td>\n",
       "      <td>1.470588</td>\n",
       "    </tr>\n",
       "    <tr>\n",
       "      <th>2012-10-05</th>\n",
       "      <td>219.10</td>\n",
       "      <td>220.70</td>\n",
       "      <td>209.40</td>\n",
       "      <td>216.00</td>\n",
       "      <td>175.1458</td>\n",
       "      <td>255139.0</td>\n",
       "      <td>0.0</td>\n",
       "      <td>1.0</td>\n",
       "      <td>-0.621118</td>\n",
       "    </tr>\n",
       "  </tbody>\n",
       "</table>\n",
       "</div>"
      ],
      "text/plain": [
       "              open    high     low   close  adjusted close     volume  \\\n",
       "date                                                                    \n",
       "2012-09-28  203.00  204.45  200.90  201.95        163.7532   206409.0   \n",
       "2012-10-01  202.75  210.10  202.25  209.15        169.5914   475639.0   \n",
       "2012-10-03  212.00  215.95  210.60  214.20        173.6862  1003020.0   \n",
       "2012-10-04  216.50  220.20  215.15  217.35        176.2404   512979.0   \n",
       "2012-10-05  219.10  220.70  209.40  216.00        175.1458   255139.0   \n",
       "\n",
       "            dividend amount  split coefficient    return  \n",
       "date                                                      \n",
       "2012-09-28              0.0                1.0       NaN  \n",
       "2012-10-01              0.0                1.0  3.565239  \n",
       "2012-10-03              0.0                1.0  2.414535  \n",
       "2012-10-04              0.0                1.0  1.470588  \n",
       "2012-10-05              0.0                1.0 -0.621118  "
      ]
     },
     "execution_count": 28,
     "metadata": {},
     "output_type": "execute_result"
    }
   ],
   "source": [
    "# Sort DataFrame ascending by date\n",
    "df_ambuja = df_ambuja.sort_index(ascending=True)\n",
    "\n",
    "# Create \"return\" column\n",
    "df_ambuja[\"return\"] = df_ambuja[\"close\"].pct_change() * 100\n",
    "\n",
    "print(\"df_ambuja shape:\", df_ambuja.shape)\n",
    "print(df_ambuja.info())\n",
    "df_ambuja.head()"
   ]
  },
  {
   "cell_type": "markdown",
   "id": "6d01cfb3",
   "metadata": {},
   "source": [
    "**Task 8.2.20:** Add a `\"return\"` column to `df_suzlon`.\n",
    "\n",
    "- [Calculate the percentage change of a column using pandas.](../%40textbook/18-ts-models.ipynb#Calculating-Returns)\n",
    "- [Create new columns derived from existing columns in a DataFrame using pandas.](../%40textbook/03-pandas-getting-started.ipynb#Adding-Columns)"
   ]
  },
  {
   "cell_type": "code",
   "execution_count": 29,
   "id": "ccb0257f",
   "metadata": {},
   "outputs": [
    {
     "name": "stdout",
     "output_type": "stream",
     "text": [
      "df_suzlon shape: (2500, 9)\n",
      "<class 'pandas.core.frame.DataFrame'>\n",
      "DatetimeIndex: 2500 entries, 2012-09-28 to 2022-11-28\n",
      "Data columns (total 9 columns):\n",
      " #   Column             Non-Null Count  Dtype  \n",
      "---  ------             --------------  -----  \n",
      " 0   open               2500 non-null   float64\n",
      " 1   high               2500 non-null   float64\n",
      " 2   low                2500 non-null   float64\n",
      " 3   close              2500 non-null   float64\n",
      " 4   adjusted close     2500 non-null   float64\n",
      " 5   volume             2500 non-null   float64\n",
      " 6   dividend amount    2500 non-null   float64\n",
      " 7   split coefficient  2500 non-null   float64\n",
      " 8   return             2499 non-null   float64\n",
      "dtypes: float64(9)\n",
      "memory usage: 195.3 KB\n",
      "None\n"
     ]
    },
    {
     "data": {
      "text/html": [
       "<div>\n",
       "<style scoped>\n",
       "    .dataframe tbody tr th:only-of-type {\n",
       "        vertical-align: middle;\n",
       "    }\n",
       "\n",
       "    .dataframe tbody tr th {\n",
       "        vertical-align: top;\n",
       "    }\n",
       "\n",
       "    .dataframe thead th {\n",
       "        text-align: right;\n",
       "    }\n",
       "</style>\n",
       "<table border=\"1\" class=\"dataframe\">\n",
       "  <thead>\n",
       "    <tr style=\"text-align: right;\">\n",
       "      <th></th>\n",
       "      <th>open</th>\n",
       "      <th>high</th>\n",
       "      <th>low</th>\n",
       "      <th>close</th>\n",
       "      <th>adjusted close</th>\n",
       "      <th>volume</th>\n",
       "      <th>dividend amount</th>\n",
       "      <th>split coefficient</th>\n",
       "      <th>return</th>\n",
       "    </tr>\n",
       "    <tr>\n",
       "      <th>date</th>\n",
       "      <th></th>\n",
       "      <th></th>\n",
       "      <th></th>\n",
       "      <th></th>\n",
       "      <th></th>\n",
       "      <th></th>\n",
       "      <th></th>\n",
       "      <th></th>\n",
       "      <th></th>\n",
       "    </tr>\n",
       "  </thead>\n",
       "  <tbody>\n",
       "    <tr>\n",
       "      <th>2012-09-28</th>\n",
       "      <td>18.06</td>\n",
       "      <td>18.44</td>\n",
       "      <td>17.67</td>\n",
       "      <td>17.76</td>\n",
       "      <td>16.3030</td>\n",
       "      <td>3387707.0</td>\n",
       "      <td>0.0</td>\n",
       "      <td>1.0</td>\n",
       "      <td>NaN</td>\n",
       "    </tr>\n",
       "    <tr>\n",
       "      <th>2012-10-01</th>\n",
       "      <td>17.95</td>\n",
       "      <td>18.10</td>\n",
       "      <td>17.45</td>\n",
       "      <td>17.95</td>\n",
       "      <td>16.4774</td>\n",
       "      <td>3275608.0</td>\n",
       "      <td>0.0</td>\n",
       "      <td>1.0</td>\n",
       "      <td>1.069820</td>\n",
       "    </tr>\n",
       "    <tr>\n",
       "      <th>2012-10-03</th>\n",
       "      <td>17.95</td>\n",
       "      <td>18.15</td>\n",
       "      <td>17.65</td>\n",
       "      <td>17.80</td>\n",
       "      <td>16.3397</td>\n",
       "      <td>2183564.0</td>\n",
       "      <td>0.0</td>\n",
       "      <td>1.0</td>\n",
       "      <td>-0.835655</td>\n",
       "    </tr>\n",
       "    <tr>\n",
       "      <th>2012-10-04</th>\n",
       "      <td>17.85</td>\n",
       "      <td>18.40</td>\n",
       "      <td>17.80</td>\n",
       "      <td>17.95</td>\n",
       "      <td>16.4774</td>\n",
       "      <td>3372498.0</td>\n",
       "      <td>0.0</td>\n",
       "      <td>1.0</td>\n",
       "      <td>0.842697</td>\n",
       "    </tr>\n",
       "    <tr>\n",
       "      <th>2012-10-05</th>\n",
       "      <td>17.95</td>\n",
       "      <td>18.15</td>\n",
       "      <td>17.35</td>\n",
       "      <td>17.55</td>\n",
       "      <td>16.1102</td>\n",
       "      <td>2403206.0</td>\n",
       "      <td>0.0</td>\n",
       "      <td>1.0</td>\n",
       "      <td>-2.228412</td>\n",
       "    </tr>\n",
       "  </tbody>\n",
       "</table>\n",
       "</div>"
      ],
      "text/plain": [
       "             open   high    low  close  adjusted close     volume  \\\n",
       "date                                                                \n",
       "2012-09-28  18.06  18.44  17.67  17.76         16.3030  3387707.0   \n",
       "2012-10-01  17.95  18.10  17.45  17.95         16.4774  3275608.0   \n",
       "2012-10-03  17.95  18.15  17.65  17.80         16.3397  2183564.0   \n",
       "2012-10-04  17.85  18.40  17.80  17.95         16.4774  3372498.0   \n",
       "2012-10-05  17.95  18.15  17.35  17.55         16.1102  2403206.0   \n",
       "\n",
       "            dividend amount  split coefficient    return  \n",
       "date                                                      \n",
       "2012-09-28              0.0                1.0       NaN  \n",
       "2012-10-01              0.0                1.0  1.069820  \n",
       "2012-10-03              0.0                1.0 -0.835655  \n",
       "2012-10-04              0.0                1.0  0.842697  \n",
       "2012-10-05              0.0                1.0 -2.228412  "
      ]
     },
     "execution_count": 29,
     "metadata": {},
     "output_type": "execute_result"
    }
   ],
   "source": [
    "# Sort DataFrame ascending by date\n",
    "df_suzlon = df_suzlon.sort_index(ascending = True)\n",
    "\n",
    "# Create \"return\" column\n",
    "df_suzlon[\"return\"] = df_suzlon[\"close\"].pct_change() * 100\n",
    "\n",
    "print(\"df_suzlon shape:\", df_suzlon.shape)\n",
    "print(df_suzlon.info())\n",
    "df_suzlon.head()"
   ]
  },
  {
   "cell_type": "markdown",
   "id": "6cce28f8",
   "metadata": {},
   "source": [
    "Now let's plot the returns for our two companies and see how the two compare."
   ]
  },
  {
   "cell_type": "markdown",
   "id": "414e4f95",
   "metadata": {},
   "source": [
    "**Task 8.2.21:** Plot the returns for `df_suzlon` and `df_ambuja`. Be sure to label your axes and use legend.\n",
    "\n",
    "- [Make a line plot with time series data in pandas.](../%40textbook/07-visualization-pandas.ipynb#Line-Plots)"
   ]
  },
  {
   "cell_type": "code",
   "execution_count": 31,
   "id": "fe0fbf79",
   "metadata": {},
   "outputs": [
    {
     "data": {
      "image/png": "[encoded data removed]",
      "text/plain": [
       "<Figure size 1080x432 with 1 Axes>"
      ]
     },
     "metadata": {
      "needs_background": "light"
     },
     "output_type": "display_data"
    }
   ],
   "source": [
    "fig, ax = plt.subplots(figsize=(15, 6))\n",
    "# Plot returns for `df_suzlon` and `df_ambuja`\n",
    "df_suzlon[\"return\"].plot(ax=ax, label = \"SUZLON\")\n",
    "df_ambuja[\"return\"].plot(ax=ax, label = \"AMBUJACEM\", color= \"C1\")\n",
    "\n",
    "# Label axes\n",
    "plt.xlabel(\"Date\")\n",
    "plt.ylabel(\"Closing Price\")\n",
    "plt.title(\"STOCK Return Price\")\n",
    "# Add legend\n",
    "plt.legend();"
   ]
  },
  {
   "cell_type": "markdown",
   "id": "fbd463b0",
   "metadata": {},
   "source": [
    "Success! By representing returns as a percentage, we're able to compare two stocks that have very different prices. But what is this visualization telling us? We can see that the returns for Suzlon have a wider spread. We see big gains and big losses. In contrast, the spread for Ambuja is narrower, meaning that the price doesn't fluctuate as much. \n",
    "\n",
    "Another name for this day-to-day fluctuation in returns is called [**volatility**](https://en.wikipedia.org/wiki/Volatility_(finance)), which is another important factor for investors. So in the next lesson, we'll learn more about volatility and then build a time series model to predict it."
   ]
  },
  {
   "cell_type": "code",
   "execution_count": null,
   "id": "d6c89f26",
   "metadata": {},
   "outputs": [],
   "source": []
  },
  {
   "cell_type": "code",
   "execution_count": null,
   "id": "125eb1a7",
   "metadata": {},
   "outputs": [],
   "source": []
  }
 ],
 "metadata": {
  "kernelspec": {
   "display_name": "Python 3 (ipykernel)",
   "language": "python",
   "name": "python3"
  },
  "language_info": {
   "codemirror_mode": {
    "name": "ipython",
    "version": 3
   },
   "file_extension": ".py",
   "mimetype": "text/x-python",
   "name": "python",
   "nbconvert_exporter": "python",
   "pygments_lexer": "ipython3",
   "version": "3.9.12"
  }
 },
 "nbformat": 4,
 "nbformat_minor": 5
}
