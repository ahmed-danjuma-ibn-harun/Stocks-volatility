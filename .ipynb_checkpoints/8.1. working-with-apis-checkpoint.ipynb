{
 "cells": [
  {
   "cell_type": "markdown",
   "id": "6454952a",
   "metadata": {},
   "source": [
    "<font size=\"+3\"><strong>8.1. Getting data from APIs</strong></font>"
   ]
  },
  {
   "cell_type": "markdown",
   "id": "43a43487",
   "metadata": {},
   "source": [
    "You can't build a model without data, right? In previous projects, we've worked with data stored in files (like a CSV) or databases (like MongoDB or SQL). In this project, we're going to get our data from a web server using an API. So in this lesson, we'll learn what an API is and how to extract data from one. We'll also work on transforming our data into a manageable format. Let's get to it!"
   ]
  },
  {
   "cell_type": "code",
   "execution_count": 30,
   "id": "80c870d0",
   "metadata": {},
   "outputs": [],
   "source": [
    "import pandas as pd\n",
    "import requests\n",
    "import matplotlib.pyplot as plt"
   ]
  },
  {
   "cell_type": "markdown",
   "id": "32b2787b",
   "metadata": {},
   "source": [
    "# Accessing APIs Through a URL"
   ]
  },
  {
   "cell_type": "markdown",
   "id": "176eb523",
   "metadata": {},
   "source": [
    "In this lesson, we'll extract stock market information from the [AlphaVantage](https://alphavantage.co/) API. To get a sense of how an API works, consider the URL below. Take a moment to read the text of the link itself, then click on it and examine the data that appears in your browser. What's the format of the data? What data is included? How is it organized? "
   ]
  },
  {
   "cell_type": "markdown",
   "id": "b5cd4876",
   "metadata": {},
   "source": [
    "https://www.alphavantage.co/query?function=TIME_SERIES_DAILY&symbol=IBM&apikey=demo"
   ]
  },
  {
   "cell_type": "markdown",
   "id": "eeb247ab",
   "metadata": {},
   "source": [
    "Notice that this URL has several components. Let's break them down one-by-one.\n",
    "\n",
    "| URL | Component |\n",
    "|:--- | :-------- |\n",
    "| `https://www.alphavantage.co` | This is the **hostname** or **base URL**. It is the web address for the server where we can get our stock data. |\n",
    "| `/query` | This is the **path**. Most APIs have lots of different operations they can do. The path is the name of the particular operation we want to access. |\n",
    "| `?` |  This question mark denotes that everything that follows in the URL is a **parameter**. Each parameter is separated by a `&` character. These parameters provide additional information that will change the operation's behavior. This is similar to the way we pass **arguments** into functions in Python. |\n",
    "| `function=TIME_SERIES_DAILY` | Our first parameter uses the `function` keyword. The value is `TIME_SERIES_DAILY`. In this case, we're asking for **daily** stock data. |\n",
    "| `symbol=IBM` | Our second parameter uses the `symbol` keyword. So we're asking for a data on a stock whose [**ticker symbol**](https://en.wikipedia.org/wiki/Ticker_symbol) is `IBM`. |\n",
    "| `apikey=demo` | Much in the same way you need a password to access some websites, an **API key** or **API token** is the password that you'll use to access the API. |"
   ]
  },
  {
   "cell_type": "markdown",
   "id": "c4b1def0",
   "metadata": {},
   "source": [
    "Now that we have a sense of the components of URL that gets information from AlphaVantage, let's create our own for a different stock."
   ]
  },
  {
   "cell_type": "markdown",
   "id": "8b6be41e",
   "metadata": {},
   "source": [
    "**Task 8.1.1:** Using the URL above as a model, create a new URL to get the data for [Ambuja Cement](https://www.ambujacement.com/). The ticker symbol for this company is: `\"AMBUJACEM.BSE\"`.\n",
    "\n",
    "- [What's a web API?](../%40textbook/22-apis.ipynb)"
   ]
  },
  {
   "cell_type": "code",
   "execution_count": 12,
   "id": "0c640fd3",
   "metadata": {},
   "outputs": [
    {
     "name": "stdout",
     "output_type": "stream",
     "text": [
      "url type: <class 'str'>\n"
     ]
    },
    {
     "data": {
      "text/plain": [
       "'https://www.alphavantage.co/query?function=TIME_SERIES_DAILY_ADJUSTED&symbol=AMBUJACEM.BSE&apikey=demo'"
      ]
     },
     "execution_count": 12,
     "metadata": {},
     "output_type": "execute_result"
    }
   ],
   "source": [
    "url = (\n",
    "    \"https://www.alphavantage.co/query?\"\n",
    "    \"function=TIME_SERIES_DAILY_ADJUSTED&\"\n",
    "    \"symbol=AMBUJACEM.BSE&\"\n",
    "    \"apikey=demo\"\n",
    "    )\n",
    "\n",
    "print(\"url type:\", type(url))\n",
    "url"
   ]
  },
  {
   "cell_type": "markdown",
   "id": "7b58faf2",
   "metadata": {},
   "source": [
    "Oh no! A problem. It looks like we need our own API key access the data. Fortunately, WQU provides you one in your [profile settings](https://learn.wqu.edu/settings/api-keys).\n",
    "\n",
    "As you can imagine, an API key is information that should be kept secret, so it's a bad idea to include it in our application code. When it comes to sensitive information like this, developers and data scientists store it as an [environment variable](https://en.wikipedia.org/wiki/Environment_variable) that's kept in a `.env` file. "
   ]
  },
  {
   "cell_type": "markdown",
   "id": "37b1d7b7",
   "metadata": {},
   "source": [
    "**Task 8.1.2:** Get your API key and save it in your `.env` file.\n",
    "\n",
    "- [What's an API key?](../%40textbook/22-apis.ipynb#Making-an-HTTP-Request)\n",
    "- [What's an environment variable?](../%40textbook/22-apis.ipynb#Declaring-Environment-Variables)"
   ]
  },
  {
   "cell_type": "markdown",
   "id": "f90fccd4",
   "metadata": {},
   "source": [
    "Now that we've stored our API key, we need to import it into our code base. This is commonly done by creating a `config` module."
   ]
  },
  {
   "cell_type": "markdown",
   "id": "96e229e4",
   "metadata": {},
   "source": [
    "**Task 8.1.3:** Import the `settings` variable from the `config` module. Then use the `dir` command to see what attributes it has."
   ]
  },
  {
   "cell_type": "code",
   "execution_count": 13,
   "id": "b0f1c2b5",
   "metadata": {},
   "outputs": [
    {
     "data": {
      "text/plain": [
       "['Config',\n",
       " '__abstractmethods__',\n",
       " '__annotations__',\n",
       " '__class__',\n",
       " '__class_vars__',\n",
       " '__config__',\n",
       " '__custom_root_type__',\n",
       " '__delattr__',\n",
       " '__dict__',\n",
       " '__dir__',\n",
       " '__doc__',\n",
       " '__eq__',\n",
       " '__exclude_fields__',\n",
       " '__fields__',\n",
       " '__fields_set__',\n",
       " '__format__',\n",
       " '__ge__',\n",
       " '__get_validators__',\n",
       " '__getattribute__',\n",
       " '__getstate__',\n",
       " '__gt__',\n",
       " '__hash__',\n",
       " '__include_fields__',\n",
       " '__init__',\n",
       " '__init_subclass__',\n",
       " '__iter__',\n",
       " '__json_encoder__',\n",
       " '__le__',\n",
       " '__lt__',\n",
       " '__module__',\n",
       " '__ne__',\n",
       " '__new__',\n",
       " '__post_root_validators__',\n",
       " '__pre_root_validators__',\n",
       " '__pretty__',\n",
       " '__private_attributes__',\n",
       " '__reduce__',\n",
       " '__reduce_ex__',\n",
       " '__repr__',\n",
       " '__repr_args__',\n",
       " '__repr_name__',\n",
       " '__repr_str__',\n",
       " '__rich_repr__',\n",
       " '__schema_cache__',\n",
       " '__setattr__',\n",
       " '__setstate__',\n",
       " '__signature__',\n",
       " '__sizeof__',\n",
       " '__slots__',\n",
       " '__str__',\n",
       " '__subclasshook__',\n",
       " '__try_update_forward_refs__',\n",
       " '__validators__',\n",
       " '_abc_impl',\n",
       " '_build_values',\n",
       " '_calculate_keys',\n",
       " '_copy_and_set_values',\n",
       " '_decompose_class',\n",
       " '_enforce_dict_if_root',\n",
       " '_get_value',\n",
       " '_init_private_attributes',\n",
       " '_iter',\n",
       " 'alpha_api_key',\n",
       " 'construct',\n",
       " 'copy',\n",
       " 'db_name',\n",
       " 'dict',\n",
       " 'from_orm',\n",
       " 'json',\n",
       " 'model_directory',\n",
       " 'parse_file',\n",
       " 'parse_obj',\n",
       " 'parse_raw',\n",
       " 'schema',\n",
       " 'schema_json',\n",
       " 'update_forward_refs',\n",
       " 'validate']"
      ]
     },
     "execution_count": 13,
     "metadata": {},
     "output_type": "execute_result"
    }
   ],
   "source": [
    "# Import settings\n",
    "from config import settings\n",
    "\n",
    "# Use `dir` to list attributes\n",
    "dir(settings)"
   ]
  },
  {
   "cell_type": "code",
   "execution_count": 10,
   "id": "17396784",
   "metadata": {},
   "outputs": [
    {
     "data": {
      "text/plain": [
       "'stocks.sqlite'"
      ]
     },
     "execution_count": 10,
     "metadata": {},
     "output_type": "execute_result"
    }
   ],
   "source": [
    "settings.db_name"
   ]
  },
  {
   "cell_type": "markdown",
   "id": "06f1e0ed",
   "metadata": {},
   "source": [
    "Beautiful! We have an API key. Since the key comes from WQU, we'll need to use a different base URL to get data from AlphaVantage. Let's see if we can get our new URL for Ambuja Cement working."
   ]
  },
  {
   "cell_type": "markdown",
   "id": "1ad549de",
   "metadata": {},
   "source": [
    "**Task 8.1.4:** Create a new URL for `\"AMBUJACEM.BSE\"`. This time, use the base URL `\"https://learn-api.wqu.edu/1/data-services/alpha-vantage/query?\"` and incorporate your API key.\n",
    "\n",
    "- [What's an f-string?](../%40textbook/02-python-advanced.ipynb#Working-with-f-strings-)"
   ]
  },
  {
   "cell_type": "code",
   "execution_count": 14,
   "id": "9a15cfdb",
   "metadata": {},
   "outputs": [
    {
     "name": "stdout",
     "output_type": "stream",
     "text": [
      "url type: <class 'str'>\n"
     ]
    },
    {
     "data": {
      "text/plain": [
       "'https://www.alphavantage.co/query?function=TIME_SERIES_DAILY_ADJUSTED&symbol=AMBUJACEM.BSE&apikey=TY4YEZ1VGSW7HK7A'"
      ]
     },
     "execution_count": 14,
     "metadata": {},
     "output_type": "execute_result"
    }
   ],
   "source": [
    "url = (\n",
    "    \"https://www.alphavantage.co/query?\"\n",
    "    \"function=TIME_SERIES_DAILY_ADJUSTED&\"\n",
    "    \"symbol=AMBUJACEM.BSE&\"\n",
    "    f\"apikey={settings.alpha_api_key}\"\n",
    "    )\n",
    "\n",
    "print(\"url type:\", type(url))\n",
    "url"
   ]
  },
  {
   "cell_type": "markdown",
   "id": "2a4661f9",
   "metadata": {},
   "source": [
    "It's working! Turns out there are a lot more parameters. Let's build up our URL to include them."
   ]
  },
  {
   "cell_type": "markdown",
   "id": "acd52509",
   "metadata": {},
   "source": [
    "**Task 8.1.5:** <a id=\"task-815\">Go</a> to the documentation for the [AlphaVantage Time Series Daily API](https://www.alphavantage.co/documentation/#daily). Expand your URL to incorporate all the parameters listed in the documentation. Also, to make your URL more dynamic, create variable names for all the parameters that can be added to the URL.\n",
    "\n",
    "- [What's an f-string?](../%40textbook/02-python-advanced.ipynb#Working-with-f-strings-)"
   ]
  },
  {
   "cell_type": "code",
   "execution_count": 17,
   "id": "c0ad7e30",
   "metadata": {},
   "outputs": [
    {
     "name": "stdout",
     "output_type": "stream",
     "text": [
      "url type: <class 'str'>\n"
     ]
    },
    {
     "data": {
      "text/plain": [
       "'https://www.alphavantage.co/query?function=TIME_SERIES_DAILY_ADJUSTED&symbol=AMBUJACEM.BSE&outputsize=full&datatype=json&apikey=TY4YEZ1VGSW7HK7A'"
      ]
     },
     "execution_count": 17,
     "metadata": {},
     "output_type": "execute_result"
    }
   ],
   "source": [
    "ticker = \"AMBUJACEM.BSE\"\n",
    "output_size = 'full'\n",
    "data_type = 'json'\n",
    "\n",
    "url = (\n",
    "    \"https://www.alphavantage.co/query?\"\n",
    "    \"function=TIME_SERIES_DAILY_ADJUSTED&\"\n",
    "    f\"symbol={ticker}&\"\n",
    "    f\"outputsize={output_size}&\"\n",
    "    f\"datatype={data_type}&\"\n",
    "    f\"apikey={settings.alpha_api_key}\"\n",
    "    )\n",
    "\n",
    "\n",
    "print(\"url type:\", type(url))\n",
    "url"
   ]
  },
  {
   "cell_type": "markdown",
   "id": "14294939",
   "metadata": {},
   "source": [
    "# Accessing APIs Through a Request"
   ]
  },
  {
   "cell_type": "markdown",
   "id": "88a2e603",
   "metadata": {},
   "source": [
    "We've seen how to access the AlphaVantage API by clicking on a URL, but this won't work for the application we're building in this project because only humans click URLs. Computer programs access APIs by making **requests**. Let's build our first request using the URL we created in the previous task. "
   ]
  },
  {
   "cell_type": "markdown",
   "id": "028457c4",
   "metadata": {},
   "source": [
    "**Task 8.1.6:** Use the requests library to make a `get` request to the URL you created in the previous task. Assign the response to the variable `response`. \n",
    "\n",
    "- [What's an HTTP request?](../%40textbook/22-apis.ipynb#RESTful-APIs)\n",
    "- [Make an HTTP request using requests.](../%40textbook/22-apis.ipynb#Making-an-HTTP-Request)"
   ]
  },
  {
   "cell_type": "code",
   "execution_count": 18,
   "id": "05308cb2",
   "metadata": {},
   "outputs": [
    {
     "name": "stdout",
     "output_type": "stream",
     "text": [
      "response type: <class 'requests.models.Response'>\n"
     ]
    }
   ],
   "source": [
    "response = requests.get(url=url)\n",
    "\n",
    "print(\"response type:\", type(response))"
   ]
  },
  {
   "cell_type": "markdown",
   "id": "85c2e942",
   "metadata": {},
   "source": [
    "That tells us what kind of response we've gotten, but it doesn't tell us anything about what it means. If we want to find out what kinds of data are actually *in* the response, we'll need to use the `dir` command."
   ]
  },
  {
   "cell_type": "markdown",
   "id": "b3466b2b",
   "metadata": {},
   "source": [
    "**Task 8.1.7:** Use `dir` command to see what attributes and methods `response` has.\n",
    "\n",
    "- [What's a class attribute?](../%40textbook/21-python-object-oriented-programming.ipynb#Attributes)\n",
    "- [What's a class method?](../%40textbook/21-python-object-oriented-programming.ipynb#Methods)"
   ]
  },
  {
   "cell_type": "code",
   "execution_count": 19,
   "id": "84dcc943",
   "metadata": {},
   "outputs": [
    {
     "data": {
      "text/plain": [
       "['__attrs__',\n",
       " '__bool__',\n",
       " '__class__',\n",
       " '__delattr__',\n",
       " '__dict__',\n",
       " '__dir__',\n",
       " '__doc__',\n",
       " '__enter__',\n",
       " '__eq__',\n",
       " '__exit__',\n",
       " '__format__',\n",
       " '__ge__',\n",
       " '__getattribute__',\n",
       " '__getstate__',\n",
       " '__gt__',\n",
       " '__hash__',\n",
       " '__init__',\n",
       " '__init_subclass__',\n",
       " '__iter__',\n",
       " '__le__',\n",
       " '__lt__',\n",
       " '__module__',\n",
       " '__ne__',\n",
       " '__new__',\n",
       " '__nonzero__',\n",
       " '__reduce__',\n",
       " '__reduce_ex__',\n",
       " '__repr__',\n",
       " '__setattr__',\n",
       " '__setstate__',\n",
       " '__sizeof__',\n",
       " '__str__',\n",
       " '__subclasshook__',\n",
       " '__weakref__',\n",
       " '_content',\n",
       " '_content_consumed',\n",
       " '_next',\n",
       " 'apparent_encoding',\n",
       " 'close',\n",
       " 'connection',\n",
       " 'content',\n",
       " 'cookies',\n",
       " 'elapsed',\n",
       " 'encoding',\n",
       " 'headers',\n",
       " 'history',\n",
       " 'is_permanent_redirect',\n",
       " 'is_redirect',\n",
       " 'iter_content',\n",
       " 'iter_lines',\n",
       " 'json',\n",
       " 'links',\n",
       " 'next',\n",
       " 'ok',\n",
       " 'raise_for_status',\n",
       " 'raw',\n",
       " 'reason',\n",
       " 'request',\n",
       " 'status_code',\n",
       " 'text',\n",
       " 'url']"
      ]
     },
     "execution_count": 19,
     "metadata": {},
     "output_type": "execute_result"
    }
   ],
   "source": [
    "# Use `dir` on your `response`\n",
    "dir(response)"
   ]
  },
  {
   "cell_type": "markdown",
   "id": "a475198e",
   "metadata": {},
   "source": [
    "`dir` returns a list, and, as you can see, there are lots of possibilities here! For now, let's focus on two attributes: `status_code` and `text`."
   ]
  },
  {
   "cell_type": "markdown",
   "id": "a116fa4f",
   "metadata": {},
   "source": [
    "We'll start with `status_code`. Every time you make a call to a URL, the response includes an [HTTP status code](https://en.wikipedia.org/wiki/List_of_HTTP_status_codes) which can be accessed with the `status_code` method. Let's see what ours is."
   ]
  },
  {
   "cell_type": "markdown",
   "id": "19911d20",
   "metadata": {},
   "source": [
    "**Task 8.1.8:** Assign the status code for your `response` to the variable `response_code`.\n",
    "\n",
    "- [What's a status code?](../%40textbook/22-apis.ipynb#Making-an-HTTP-Request)"
   ]
  },
  {
   "cell_type": "code",
   "execution_count": 20,
   "id": "ac3083da",
   "metadata": {},
   "outputs": [
    {
     "name": "stdout",
     "output_type": "stream",
     "text": [
      "code type: <class 'int'>\n"
     ]
    },
    {
     "data": {
      "text/plain": [
       "200"
      ]
     },
     "execution_count": 20,
     "metadata": {},
     "output_type": "execute_result"
    }
   ],
   "source": [
    "response_code = response.status_code\n",
    "\n",
    "print(\"code type:\", type(response_code))\n",
    "response_code"
   ]
  },
  {
   "cell_type": "markdown",
   "id": "475a711d",
   "metadata": {},
   "source": [
    "Translated to English, `200` means \"OK\". It's the standard response for a successful HTTP request. In other words, it worked! We successfully received data back from the AlphaVantage API. \n",
    "\n",
    "Now let's take a look at the `text`."
   ]
  },
  {
   "cell_type": "markdown",
   "id": "662f782b",
   "metadata": {},
   "source": [
    "**Task 8.1.9:** Assign the test for your `response` to the variable `response_text`."
   ]
  },
  {
   "cell_type": "code",
   "execution_count": 21,
   "id": "df2665f5",
   "metadata": {},
   "outputs": [
    {
     "name": "stdout",
     "output_type": "stream",
     "text": [
      "response_text type: <class 'str'>\n",
      "{\n",
      "    \"Meta Data\": {\n",
      "        \"1. Information\": \"Daily Time Series with Splits and Dividend Events\",\n",
      "        \"2. Symbol\": \"AMBUJACEM.BSE\",\n",
      "        \"3. Last Refreshed\": \"2022-11-28\",\n",
      "        \"4. Output \n"
     ]
    }
   ],
   "source": [
    "response_text = response.text\n",
    "\n",
    "print(\"response_text type:\", type(response_text))\n",
    "print(response_text[:200])"
   ]
  },
  {
   "cell_type": "markdown",
   "id": "797bb25c",
   "metadata": {},
   "source": [
    "This string looks like the data we previously saw in our browser when we clicked on the URL in <a href=\"#task-815\">Task 8.1.5</a>. But we can't work with data structured as JSON when it's a string. Instead, we need it in a dictionary."
   ]
  },
  {
   "cell_type": "markdown",
   "id": "5c608fc7",
   "metadata": {},
   "source": [
    "**Task 8.1.10:** Use `json` method to access a dictionary version of the data. Assign it to the variable name `response_data`.\n",
    "\n",
    "- [What's JSON?](../%40textbook/01-python-getting-started.ipynb#JSON)"
   ]
  },
  {
   "cell_type": "code",
   "execution_count": 22,
   "id": "e5c86124",
   "metadata": {},
   "outputs": [
    {
     "name": "stdout",
     "output_type": "stream",
     "text": [
      "response_data type: <class 'dict'>\n"
     ]
    }
   ],
   "source": [
    "response_data = response.json()\n",
    "\n",
    "print(\"response_data type:\", type(response_data))"
   ]
  },
  {
   "cell_type": "markdown",
   "id": "7d9d19b9",
   "metadata": {},
   "source": [
    "Let's check to make sure that the data is structured in the same way we saw in our browser."
   ]
  },
  {
   "cell_type": "markdown",
   "id": "ccf07106",
   "metadata": {},
   "source": [
    "**Task 8.1.11:** Print the keys of `response_data`. Are they what you expected?\n",
    "\n",
    "- [List the keys of a dictionary in Python.](../%40textbook/01-python-getting-started.ipynb#Dictionary-Keys)"
   ]
  },
  {
   "cell_type": "code",
   "execution_count": 23,
   "id": "6a7215d7",
   "metadata": {},
   "outputs": [
    {
     "data": {
      "text/plain": [
       "dict_keys(['Meta Data', 'Time Series (Daily)'])"
      ]
     },
     "execution_count": 23,
     "metadata": {},
     "output_type": "execute_result"
    }
   ],
   "source": [
    "# Print `response_data` keys\n",
    "response_data.keys()"
   ]
  },
  {
   "cell_type": "markdown",
   "id": "0000a18b",
   "metadata": {},
   "source": [
    "Now let's look at data that's assigned to the `\"Time Series (Daily)\"` key."
   ]
  },
  {
   "cell_type": "markdown",
   "id": "7ae26744",
   "metadata": {},
   "source": [
    "**Task 8.1.12:** Assign the value for the `\"Time Series (Daily)\"` key to the variable `stock_data`. Then examine the data for one of the days in `stock_data`.\n",
    "\n",
    "- [List the keys of a dictionary in Python.](../%40textbook/01-python-getting-started.ipynb#Dictionary-Keys)\n",
    "- [Access an entry in a dictionary in Python.](../%40textbook/01-python-getting-started.ipynb#Working-with-Dictionaries)"
   ]
  },
  {
   "cell_type": "code",
   "execution_count": 24,
   "id": "0d3afac4",
   "metadata": {},
   "outputs": [
    {
     "name": "stdout",
     "output_type": "stream",
     "text": [
      "stock_data type: <class 'dict'>\n"
     ]
    },
    {
     "data": {
      "text/plain": [
       "{'1. open': '566.4',\n",
       " '2. high': '570.95',\n",
       " '3. low': '560.15',\n",
       " '4. close': '562.2',\n",
       " '5. adjusted close': '562.2',\n",
       " '6. volume': '131759',\n",
       " '7. dividend amount': '0.0000',\n",
       " '8. split coefficient': '1.0'}"
      ]
     },
     "execution_count": 24,
     "metadata": {},
     "output_type": "execute_result"
    }
   ],
   "source": [
    "# Extract `\"Time Series (Daily)\"` value from `response_data`\n",
    "stock_data = response_data[\"Time Series (Daily)\"]\n",
    "\n",
    "print(\"stock_data type:\", type(stock_data))\n",
    "\n",
    "# Extract data for one of the days in `stock_data`\n",
    "# stock_data.keys()\n",
    "stock_data['2022-11-23']\n"
   ]
  },
  {
   "cell_type": "markdown",
   "id": "6e9c9a06",
   "metadata": {},
   "source": [
    "Now that we know how the data is organized when we extract it from the API, let's transform it into a DataFrame to make it more manageable."
   ]
  },
  {
   "cell_type": "markdown",
   "id": "5dab76ed",
   "metadata": {},
   "source": [
    "**Task 8.1.13:** Read the data from `stock_data` into a DataFrame named `df_ambuja`. Be sure all your data types are correct!\n",
    "\n",
    "- [Create a DataFrame from a dictionary in pandas.](../%40textbook/03-pandas-getting-started.ipynb#Dictionaries)\n",
    "- [Inspect a DataFrame using the shape, info, and head in pandas.](../%40textbook/03-pandas-getting-started.ipynb#Inspecting-DataFrames)"
   ]
  },
  {
   "cell_type": "code",
   "execution_count": 26,
   "id": "97c41c53",
   "metadata": {},
   "outputs": [
    {
     "name": "stdout",
     "output_type": "stream",
     "text": [
      "df_ambuja shape: (4411, 8)\n",
      "\n",
      "<class 'pandas.core.frame.DataFrame'>\n",
      "Index: 4411 entries, 2022-11-28 to 2005-01-03\n",
      "Data columns (total 8 columns):\n",
      " #   Column                Non-Null Count  Dtype  \n",
      "---  ------                --------------  -----  \n",
      " 0   1. open               4411 non-null   float64\n",
      " 1   2. high               4411 non-null   float64\n",
      " 2   3. low                4411 non-null   float64\n",
      " 3   4. close              4411 non-null   float64\n",
      " 4   5. adjusted close     4411 non-null   float64\n",
      " 5   6. volume             4411 non-null   float64\n",
      " 6   7. dividend amount    4411 non-null   float64\n",
      " 7   8. split coefficient  4411 non-null   float64\n",
      "dtypes: float64(8)\n",
      "memory usage: 310.1+ KB\n",
      "None\n"
     ]
    },
    {
     "data": {
      "text/html": [
       "<div>\n",
       "<style scoped>\n",
       "    .dataframe tbody tr th:only-of-type {\n",
       "        vertical-align: middle;\n",
       "    }\n",
       "\n",
       "    .dataframe tbody tr th {\n",
       "        vertical-align: top;\n",
       "    }\n",
       "\n",
       "    .dataframe thead th {\n",
       "        text-align: right;\n",
       "    }\n",
       "</style>\n",
       "<table border=\"1\" class=\"dataframe\">\n",
       "  <thead>\n",
       "    <tr style=\"text-align: right;\">\n",
       "      <th></th>\n",
       "      <th>1. open</th>\n",
       "      <th>2. high</th>\n",
       "      <th>3. low</th>\n",
       "      <th>4. close</th>\n",
       "      <th>5. adjusted close</th>\n",
       "      <th>6. volume</th>\n",
       "      <th>7. dividend amount</th>\n",
       "      <th>8. split coefficient</th>\n",
       "    </tr>\n",
       "  </thead>\n",
       "  <tbody>\n",
       "    <tr>\n",
       "      <th>2022-11-28</th>\n",
       "      <td>564.00</td>\n",
       "      <td>572.45</td>\n",
       "      <td>563.20</td>\n",
       "      <td>568.80</td>\n",
       "      <td>568.80</td>\n",
       "      <td>162793.0</td>\n",
       "      <td>0.0</td>\n",
       "      <td>1.0</td>\n",
       "    </tr>\n",
       "    <tr>\n",
       "      <th>2022-11-25</th>\n",
       "      <td>559.55</td>\n",
       "      <td>567.60</td>\n",
       "      <td>557.10</td>\n",
       "      <td>564.85</td>\n",
       "      <td>564.85</td>\n",
       "      <td>117173.0</td>\n",
       "      <td>0.0</td>\n",
       "      <td>1.0</td>\n",
       "    </tr>\n",
       "    <tr>\n",
       "      <th>2022-11-24</th>\n",
       "      <td>563.25</td>\n",
       "      <td>567.15</td>\n",
       "      <td>554.60</td>\n",
       "      <td>557.10</td>\n",
       "      <td>557.10</td>\n",
       "      <td>192331.0</td>\n",
       "      <td>0.0</td>\n",
       "      <td>1.0</td>\n",
       "    </tr>\n",
       "    <tr>\n",
       "      <th>2022-11-23</th>\n",
       "      <td>566.40</td>\n",
       "      <td>570.95</td>\n",
       "      <td>560.15</td>\n",
       "      <td>562.20</td>\n",
       "      <td>562.20</td>\n",
       "      <td>131759.0</td>\n",
       "      <td>0.0</td>\n",
       "      <td>1.0</td>\n",
       "    </tr>\n",
       "    <tr>\n",
       "      <th>2022-11-22</th>\n",
       "      <td>562.10</td>\n",
       "      <td>578.35</td>\n",
       "      <td>560.40</td>\n",
       "      <td>565.85</td>\n",
       "      <td>565.85</td>\n",
       "      <td>240283.0</td>\n",
       "      <td>0.0</td>\n",
       "      <td>1.0</td>\n",
       "    </tr>\n",
       "  </tbody>\n",
       "</table>\n",
       "</div>"
      ],
      "text/plain": [
       "            1. open  2. high  3. low  4. close  5. adjusted close  6. volume  \\\n",
       "2022-11-28   564.00   572.45  563.20    568.80             568.80   162793.0   \n",
       "2022-11-25   559.55   567.60  557.10    564.85             564.85   117173.0   \n",
       "2022-11-24   563.25   567.15  554.60    557.10             557.10   192331.0   \n",
       "2022-11-23   566.40   570.95  560.15    562.20             562.20   131759.0   \n",
       "2022-11-22   562.10   578.35  560.40    565.85             565.85   240283.0   \n",
       "\n",
       "            7. dividend amount  8. split coefficient  \n",
       "2022-11-28                 0.0                   1.0  \n",
       "2022-11-25                 0.0                   1.0  \n",
       "2022-11-24                 0.0                   1.0  \n",
       "2022-11-23                 0.0                   1.0  \n",
       "2022-11-22                 0.0                   1.0  "
      ]
     },
     "execution_count": 26,
     "metadata": {},
     "output_type": "execute_result"
    }
   ],
   "source": [
    "df_ambuja = pd.DataFrame.from_dict(stock_data, orient=\"index\", dtype=float)\n",
    "\n",
    "print(\"df_ambuja shape:\", df_ambuja.shape)\n",
    "print()\n",
    "print(df_ambuja.info())\n",
    "df_ambuja.head(5)"
   ]
  },
  {
   "cell_type": "markdown",
   "id": "0f731e8f",
   "metadata": {},
   "source": [
    "Did you notice that the index for `df_ambuja` doesn't have an entry for all days? Given that this is stock market data, why do you think that is?"
   ]
  },
  {
   "cell_type": "markdown",
   "id": "4aa58fbc",
   "metadata": {},
   "source": [
    "All in all, this looks pretty good, but there are a couple of problems: the data type of the dates, and the format of the headers. Let's fix the dates first. Right now, the dates are strings; in order to make the rest of our code work, we'll need to create a proper `DatetimeIndex`. "
   ]
  },
  {
   "cell_type": "markdown",
   "id": "100d286b",
   "metadata": {},
   "source": [
    "**Task 8.1.14:** Transform the index of `df_ambuja` into a `DatetimeIndex` with the name `\"date\"`.\n",
    "\n",
    "- [Access the index of a DataFrame using pandas.](../%40textbook/03-pandas-getting-started.ipynb#Working-with-DataFrame-Indices)\n",
    "- [Convert data to `datetime` using pandas.](../%40textbook/04-pandas-advanced.ipynb#Time-Stamps)"
   ]
  },
  {
   "cell_type": "code",
   "execution_count": 27,
   "id": "5415b01c",
   "metadata": {},
   "outputs": [
    {
     "name": "stdout",
     "output_type": "stream",
     "text": [
      "<class 'pandas.core.frame.DataFrame'>\n",
      "DatetimeIndex: 4411 entries, 2022-11-28 to 2005-01-03\n",
      "Data columns (total 8 columns):\n",
      " #   Column                Non-Null Count  Dtype  \n",
      "---  ------                --------------  -----  \n",
      " 0   1. open               4411 non-null   float64\n",
      " 1   2. high               4411 non-null   float64\n",
      " 2   3. low                4411 non-null   float64\n",
      " 3   4. close              4411 non-null   float64\n",
      " 4   5. adjusted close     4411 non-null   float64\n",
      " 5   6. volume             4411 non-null   float64\n",
      " 6   7. dividend amount    4411 non-null   float64\n",
      " 7   8. split coefficient  4411 non-null   float64\n",
      "dtypes: float64(8)\n",
      "memory usage: 310.1 KB\n",
      "None\n"
     ]
    },
    {
     "data": {
      "text/html": [
       "<div>\n",
       "<style scoped>\n",
       "    .dataframe tbody tr th:only-of-type {\n",
       "        vertical-align: middle;\n",
       "    }\n",
       "\n",
       "    .dataframe tbody tr th {\n",
       "        vertical-align: top;\n",
       "    }\n",
       "\n",
       "    .dataframe thead th {\n",
       "        text-align: right;\n",
       "    }\n",
       "</style>\n",
       "<table border=\"1\" class=\"dataframe\">\n",
       "  <thead>\n",
       "    <tr style=\"text-align: right;\">\n",
       "      <th></th>\n",
       "      <th>1. open</th>\n",
       "      <th>2. high</th>\n",
       "      <th>3. low</th>\n",
       "      <th>4. close</th>\n",
       "      <th>5. adjusted close</th>\n",
       "      <th>6. volume</th>\n",
       "      <th>7. dividend amount</th>\n",
       "      <th>8. split coefficient</th>\n",
       "    </tr>\n",
       "    <tr>\n",
       "      <th>date</th>\n",
       "      <th></th>\n",
       "      <th></th>\n",
       "      <th></th>\n",
       "      <th></th>\n",
       "      <th></th>\n",
       "      <th></th>\n",
       "      <th></th>\n",
       "      <th></th>\n",
       "    </tr>\n",
       "  </thead>\n",
       "  <tbody>\n",
       "    <tr>\n",
       "      <th>2022-11-28</th>\n",
       "      <td>564.00</td>\n",
       "      <td>572.45</td>\n",
       "      <td>563.20</td>\n",
       "      <td>568.80</td>\n",
       "      <td>568.80</td>\n",
       "      <td>162793.0</td>\n",
       "      <td>0.0</td>\n",
       "      <td>1.0</td>\n",
       "    </tr>\n",
       "    <tr>\n",
       "      <th>2022-11-25</th>\n",
       "      <td>559.55</td>\n",
       "      <td>567.60</td>\n",
       "      <td>557.10</td>\n",
       "      <td>564.85</td>\n",
       "      <td>564.85</td>\n",
       "      <td>117173.0</td>\n",
       "      <td>0.0</td>\n",
       "      <td>1.0</td>\n",
       "    </tr>\n",
       "    <tr>\n",
       "      <th>2022-11-24</th>\n",
       "      <td>563.25</td>\n",
       "      <td>567.15</td>\n",
       "      <td>554.60</td>\n",
       "      <td>557.10</td>\n",
       "      <td>557.10</td>\n",
       "      <td>192331.0</td>\n",
       "      <td>0.0</td>\n",
       "      <td>1.0</td>\n",
       "    </tr>\n",
       "    <tr>\n",
       "      <th>2022-11-23</th>\n",
       "      <td>566.40</td>\n",
       "      <td>570.95</td>\n",
       "      <td>560.15</td>\n",
       "      <td>562.20</td>\n",
       "      <td>562.20</td>\n",
       "      <td>131759.0</td>\n",
       "      <td>0.0</td>\n",
       "      <td>1.0</td>\n",
       "    </tr>\n",
       "    <tr>\n",
       "      <th>2022-11-22</th>\n",
       "      <td>562.10</td>\n",
       "      <td>578.35</td>\n",
       "      <td>560.40</td>\n",
       "      <td>565.85</td>\n",
       "      <td>565.85</td>\n",
       "      <td>240283.0</td>\n",
       "      <td>0.0</td>\n",
       "      <td>1.0</td>\n",
       "    </tr>\n",
       "  </tbody>\n",
       "</table>\n",
       "</div>"
      ],
      "text/plain": [
       "            1. open  2. high  3. low  4. close  5. adjusted close  6. volume  \\\n",
       "date                                                                           \n",
       "2022-11-28   564.00   572.45  563.20    568.80             568.80   162793.0   \n",
       "2022-11-25   559.55   567.60  557.10    564.85             564.85   117173.0   \n",
       "2022-11-24   563.25   567.15  554.60    557.10             557.10   192331.0   \n",
       "2022-11-23   566.40   570.95  560.15    562.20             562.20   131759.0   \n",
       "2022-11-22   562.10   578.35  560.40    565.85             565.85   240283.0   \n",
       "\n",
       "            7. dividend amount  8. split coefficient  \n",
       "date                                                  \n",
       "2022-11-28                 0.0                   1.0  \n",
       "2022-11-25                 0.0                   1.0  \n",
       "2022-11-24                 0.0                   1.0  \n",
       "2022-11-23                 0.0                   1.0  \n",
       "2022-11-22                 0.0                   1.0  "
      ]
     },
     "execution_count": 27,
     "metadata": {},
     "output_type": "execute_result"
    }
   ],
   "source": [
    "# Convert `df_ambuja` index to `DatetimeIndex`\n",
    "df_ambuja.index = pd.to_datetime(df_ambuja.index)\n",
    "\n",
    "# Name index \"date\"\n",
    "df_ambuja.index.name = \"date\"\n",
    "\n",
    "print(df_ambuja.info())\n",
    "df_ambuja.head()"
   ]
  },
  {
   "cell_type": "markdown",
   "id": "93dac32a",
   "metadata": {},
   "source": [
    "Okay! Now that the dates are fixed, lets deal with the headers. There isn't really anything *wrong* with them, but those numbers make them look a little unfinished. Let's get rid of them."
   ]
  },
  {
   "cell_type": "markdown",
   "id": "82f5146b",
   "metadata": {},
   "source": [
    "**Task 8.1.15:** Remove the numbering from the column names for `df_ambuja`.\n",
    "\n",
    "- [What's a list comprehension?](../%40textbook/02-python-advanced.ipynb#List-Comprehension-)\n",
    "- [Write a list comprehension in Python.](../%40textbook/02-python-advanced.ipynb#List-Comprehension-)\n",
    "- [Split a string in Python.](../%40textbook/02-python-advanced.ipynb#Manipulating-Strings)"
   ]
  },
  {
   "cell_type": "code",
   "execution_count": 28,
   "id": "636ed3ca",
   "metadata": {},
   "outputs": [
    {
     "name": "stdout",
     "output_type": "stream",
     "text": [
      "<class 'pandas.core.frame.DataFrame'>\n",
      "DatetimeIndex: 4411 entries, 2022-11-28 to 2005-01-03\n",
      "Data columns (total 8 columns):\n",
      " #   Column             Non-Null Count  Dtype  \n",
      "---  ------             --------------  -----  \n",
      " 0   open               4411 non-null   float64\n",
      " 1   high               4411 non-null   float64\n",
      " 2   low                4411 non-null   float64\n",
      " 3   close              4411 non-null   float64\n",
      " 4   adjusted close     4411 non-null   float64\n",
      " 5   volume             4411 non-null   float64\n",
      " 6   dividend amount    4411 non-null   float64\n",
      " 7   split coefficient  4411 non-null   float64\n",
      "dtypes: float64(8)\n",
      "memory usage: 310.1 KB\n",
      "None\n"
     ]
    },
    {
     "data": {
      "text/html": [
       "<div>\n",
       "<style scoped>\n",
       "    .dataframe tbody tr th:only-of-type {\n",
       "        vertical-align: middle;\n",
       "    }\n",
       "\n",
       "    .dataframe tbody tr th {\n",
       "        vertical-align: top;\n",
       "    }\n",
       "\n",
       "    .dataframe thead th {\n",
       "        text-align: right;\n",
       "    }\n",
       "</style>\n",
       "<table border=\"1\" class=\"dataframe\">\n",
       "  <thead>\n",
       "    <tr style=\"text-align: right;\">\n",
       "      <th></th>\n",
       "      <th>open</th>\n",
       "      <th>high</th>\n",
       "      <th>low</th>\n",
       "      <th>close</th>\n",
       "      <th>adjusted close</th>\n",
       "      <th>volume</th>\n",
       "      <th>dividend amount</th>\n",
       "      <th>split coefficient</th>\n",
       "    </tr>\n",
       "    <tr>\n",
       "      <th>date</th>\n",
       "      <th></th>\n",
       "      <th></th>\n",
       "      <th></th>\n",
       "      <th></th>\n",
       "      <th></th>\n",
       "      <th></th>\n",
       "      <th></th>\n",
       "      <th></th>\n",
       "    </tr>\n",
       "  </thead>\n",
       "  <tbody>\n",
       "    <tr>\n",
       "      <th>2022-11-28</th>\n",
       "      <td>564.00</td>\n",
       "      <td>572.45</td>\n",
       "      <td>563.20</td>\n",
       "      <td>568.80</td>\n",
       "      <td>568.80</td>\n",
       "      <td>162793.0</td>\n",
       "      <td>0.0</td>\n",
       "      <td>1.0</td>\n",
       "    </tr>\n",
       "    <tr>\n",
       "      <th>2022-11-25</th>\n",
       "      <td>559.55</td>\n",
       "      <td>567.60</td>\n",
       "      <td>557.10</td>\n",
       "      <td>564.85</td>\n",
       "      <td>564.85</td>\n",
       "      <td>117173.0</td>\n",
       "      <td>0.0</td>\n",
       "      <td>1.0</td>\n",
       "    </tr>\n",
       "    <tr>\n",
       "      <th>2022-11-24</th>\n",
       "      <td>563.25</td>\n",
       "      <td>567.15</td>\n",
       "      <td>554.60</td>\n",
       "      <td>557.10</td>\n",
       "      <td>557.10</td>\n",
       "      <td>192331.0</td>\n",
       "      <td>0.0</td>\n",
       "      <td>1.0</td>\n",
       "    </tr>\n",
       "    <tr>\n",
       "      <th>2022-11-23</th>\n",
       "      <td>566.40</td>\n",
       "      <td>570.95</td>\n",
       "      <td>560.15</td>\n",
       "      <td>562.20</td>\n",
       "      <td>562.20</td>\n",
       "      <td>131759.0</td>\n",
       "      <td>0.0</td>\n",
       "      <td>1.0</td>\n",
       "    </tr>\n",
       "    <tr>\n",
       "      <th>2022-11-22</th>\n",
       "      <td>562.10</td>\n",
       "      <td>578.35</td>\n",
       "      <td>560.40</td>\n",
       "      <td>565.85</td>\n",
       "      <td>565.85</td>\n",
       "      <td>240283.0</td>\n",
       "      <td>0.0</td>\n",
       "      <td>1.0</td>\n",
       "    </tr>\n",
       "  </tbody>\n",
       "</table>\n",
       "</div>"
      ],
      "text/plain": [
       "              open    high     low   close  adjusted close    volume  \\\n",
       "date                                                                   \n",
       "2022-11-28  564.00  572.45  563.20  568.80          568.80  162793.0   \n",
       "2022-11-25  559.55  567.60  557.10  564.85          564.85  117173.0   \n",
       "2022-11-24  563.25  567.15  554.60  557.10          557.10  192331.0   \n",
       "2022-11-23  566.40  570.95  560.15  562.20          562.20  131759.0   \n",
       "2022-11-22  562.10  578.35  560.40  565.85          565.85  240283.0   \n",
       "\n",
       "            dividend amount  split coefficient  \n",
       "date                                            \n",
       "2022-11-28              0.0                1.0  \n",
       "2022-11-25              0.0                1.0  \n",
       "2022-11-24              0.0                1.0  \n",
       "2022-11-23              0.0                1.0  \n",
       "2022-11-22              0.0                1.0  "
      ]
     },
     "execution_count": 28,
     "metadata": {},
     "output_type": "execute_result"
    }
   ],
   "source": [
    "# Remove numbering from `df_ambuja` column names\n",
    "df_ambuja.columns = [c.split(\". \")[1] for c in df_ambuja.columns]\n",
    "\n",
    "print(df_ambuja.info())\n",
    "df_ambuja.head()"
   ]
  },
  {
   "cell_type": "code",
   "execution_count": 53,
   "id": "cfff083b",
   "metadata": {},
   "outputs": [
    {
     "data": {
      "image/png": "[encoded data removed]",
      "text/plain": [
       "<Figure size 1080x432 with 1 Axes>"
      ]
     },
     "metadata": {
      "needs_background": "light"
     },
     "output_type": "display_data"
    }
   ],
   "source": [
    "fig, ax = plt.subplots(figsize = (15,6))\n",
    "ax.scatter(data=df_ambuja, x= \"open\", y= \"close\", c=\"blue\", marker=\"d\", s=26)\n",
    "plt.xlabel(\"Open Price\")\n",
    "plt.ylabel(\"Close Price\")\n",
    "plt.title(\"Distribution of AMBUJACEM.BSE Stocks Open Vs. Closing Prices\");"
   ]
  },
  {
   "cell_type": "markdown",
   "id": "b06a5ea7",
   "metadata": {},
   "source": [
    "# Defensive Programming"
   ]
  },
  {
   "cell_type": "markdown",
   "id": "5b37d5b5",
   "metadata": {},
   "source": [
    "Defensive programming is the practice of writing code which will continue to function, even if something goes wrong. We'll never be able to foresee all the problems people might run into with our code, but we can take steps to make sure things don't fall apart whenever one of those problems happens. \n",
    "\n",
    "So far, we've made API requests where everything works. But coding errors and problems with servers are common, and they can cause big issues in a data science project. Let's see how our `response` changes when we introduce common bugs in our code. "
   ]
  },
  {
   "cell_type": "markdown",
   "id": "ea000fd3",
   "metadata": {},
   "source": [
    "**Task 8.1.16:** Return to <a href=\"#task-815\">Task 8.1.5</a> and change the first part of your URL. Instead of `\"query\"`, use `\"search\"` (a path that doesn't exist). Then rerun your code for all the tasks that follow. What changes? What stays the same?"
   ]
  },
  {
   "cell_type": "markdown",
   "id": "225c047d",
   "metadata": {},
   "source": [
    "We know what happens when we try to access a bad address. But what about when we access the *right* path with a *bad* ticker symbol?"
   ]
  },
  {
   "cell_type": "markdown",
   "id": "1c892b8d",
   "metadata": {},
   "source": [
    "**Task 8.1.17:** Return to <a href=\"#task-815\">Task 8.1.5</a> and change the ticker symbol from `\"AMBUJACEM.BSE\"` to `\"RAMBUJACEM.BSE\"` (a company that doesn't exist). Then rerun your code for all the tasks that follow. Again, take note of what changes and what stays the same."
   ]
  },
  {
   "cell_type": "markdown",
   "id": "2cd72e13",
   "metadata": {},
   "source": [
    "Let's formalize our extraction and transformation process for the AlphaVantage API into a reproducible function."
   ]
  },
  {
   "cell_type": "markdown",
   "id": "5cfeaf6b",
   "metadata": {},
   "source": [
    "**Task 8.1.18:** Build a `get_daily` function that gets data from the AlphaVantage API and returns a clean DataFrame. Use the docstring as guidance. When you're satisfied with the result, submit your work to the grader. \n",
    "\n",
    "- [What's a function?](../%40textbook/02-python-advanced.ipynb#Functions)\n",
    "- [Write a function in Python.](../%40textbook/02-python-advanced.ipynb#Functions)"
   ]
  },
  {
   "cell_type": "code",
   "execution_count": 54,
   "id": "3834ae3a",
   "metadata": {},
   "outputs": [],
   "source": [
    "def get_daily(ticker, output_size= \"full\"):\n",
    "\n",
    "    \"\"\"Get daily time series of an equity from AlphaVantage API.\n",
    "\n",
    "    Parameters\n",
    "    ----------\n",
    "    ticker : str\n",
    "        The ticker symbol of the equity.\n",
    "    output_size : str, optional\n",
    "        Number of observations to retrieve. \"compact\" returns the\n",
    "        latest 100 observations. \"full\" returns all observations for\n",
    "        equity. By default \"full\".\n",
    "\n",
    "    Returns\n",
    "    -------\n",
    "    pd.DataFrame\n",
    "        Columns are 'open', 'high', 'low', 'close', and 'volume'.\n",
    "        All are numeric.\n",
    "    \"\"\"\n",
    "    # Create URL (8.1.5)\n",
    "    url = (\n",
    "        \"https://www.alphavantage.co/query?\"\n",
    "        \"function=TIME_SERIES_DAILY_ADJUSTED&\"\n",
    "        f\"symbol={ticker}&\"\n",
    "        f\"outputsize={output_size}&\"\n",
    "        f\"datatype={data_type}&\"\n",
    "        f\"apikey={settings.alpha_api_key}\"\n",
    "        )\n",
    "\n",
    "    # Send request to API (8.1.6)\n",
    "    response = requests.get(url=url)\n",
    "\n",
    "    # Extract JSON data from response (8.1.10)\n",
    "    response_data = response.json()\n",
    "    \n",
    "    if \"Time Series (Daily)\" not in response_data:\n",
    "        raise Exception(\n",
    "        f\"Invalid API Call: Ckeck that ticker symbol '{ticker}' is correct\"\n",
    "        )\n",
    "    # Read data into DataFrame (8.1.12 & 8.1.13)\n",
    "    stock_data = response_data[\"Time Series (Daily)\"]\n",
    "    df = pd.DataFrame.from_dict(stock_data, orient=\"index\", dtype=float)\n",
    "\n",
    "    # Convert index to `DatetimeIndex` named \"date\" (8.1.14)\n",
    "    df.index = pd.to_datetime(df.index)\n",
    "    df.index.name = \"date\"\n",
    "\n",
    "    # Remove numbering from columns (8.1.15)\n",
    "    df.columns = [c.split(\". \")[1] for c in df.columns]\n",
    "\n",
    "    # Return DataFrame\n",
    "    return df"
   ]
  },
  {
   "cell_type": "code",
   "execution_count": 55,
   "id": "12c9d356",
   "metadata": {},
   "outputs": [
    {
     "name": "stdout",
     "output_type": "stream",
     "text": [
      "<class 'pandas.core.frame.DataFrame'>\n",
      "DatetimeIndex: 4411 entries, 2022-11-28 to 2005-01-03\n",
      "Data columns (total 8 columns):\n",
      " #   Column             Non-Null Count  Dtype  \n",
      "---  ------             --------------  -----  \n",
      " 0   open               4411 non-null   float64\n",
      " 1   high               4411 non-null   float64\n",
      " 2   low                4411 non-null   float64\n",
      " 3   close              4411 non-null   float64\n",
      " 4   adjusted close     4411 non-null   float64\n",
      " 5   volume             4411 non-null   float64\n",
      " 6   dividend amount    4411 non-null   float64\n",
      " 7   split coefficient  4411 non-null   float64\n",
      "dtypes: float64(8)\n",
      "memory usage: 310.1 KB\n",
      "None\n"
     ]
    },
    {
     "data": {
      "text/html": [
       "<div>\n",
       "<style scoped>\n",
       "    .dataframe tbody tr th:only-of-type {\n",
       "        vertical-align: middle;\n",
       "    }\n",
       "\n",
       "    .dataframe tbody tr th {\n",
       "        vertical-align: top;\n",
       "    }\n",
       "\n",
       "    .dataframe thead th {\n",
       "        text-align: right;\n",
       "    }\n",
       "</style>\n",
       "<table border=\"1\" class=\"dataframe\">\n",
       "  <thead>\n",
       "    <tr style=\"text-align: right;\">\n",
       "      <th></th>\n",
       "      <th>open</th>\n",
       "      <th>high</th>\n",
       "      <th>low</th>\n",
       "      <th>close</th>\n",
       "      <th>adjusted close</th>\n",
       "      <th>volume</th>\n",
       "      <th>dividend amount</th>\n",
       "      <th>split coefficient</th>\n",
       "    </tr>\n",
       "    <tr>\n",
       "      <th>date</th>\n",
       "      <th></th>\n",
       "      <th></th>\n",
       "      <th></th>\n",
       "      <th></th>\n",
       "      <th></th>\n",
       "      <th></th>\n",
       "      <th></th>\n",
       "      <th></th>\n",
       "    </tr>\n",
       "  </thead>\n",
       "  <tbody>\n",
       "    <tr>\n",
       "      <th>2022-11-28</th>\n",
       "      <td>564.00</td>\n",
       "      <td>572.45</td>\n",
       "      <td>563.20</td>\n",
       "      <td>568.80</td>\n",
       "      <td>568.80</td>\n",
       "      <td>162793.0</td>\n",
       "      <td>0.0</td>\n",
       "      <td>1.0</td>\n",
       "    </tr>\n",
       "    <tr>\n",
       "      <th>2022-11-25</th>\n",
       "      <td>559.55</td>\n",
       "      <td>567.60</td>\n",
       "      <td>557.10</td>\n",
       "      <td>564.85</td>\n",
       "      <td>564.85</td>\n",
       "      <td>117173.0</td>\n",
       "      <td>0.0</td>\n",
       "      <td>1.0</td>\n",
       "    </tr>\n",
       "    <tr>\n",
       "      <th>2022-11-24</th>\n",
       "      <td>563.25</td>\n",
       "      <td>567.15</td>\n",
       "      <td>554.60</td>\n",
       "      <td>557.10</td>\n",
       "      <td>557.10</td>\n",
       "      <td>192331.0</td>\n",
       "      <td>0.0</td>\n",
       "      <td>1.0</td>\n",
       "    </tr>\n",
       "    <tr>\n",
       "      <th>2022-11-23</th>\n",
       "      <td>566.40</td>\n",
       "      <td>570.95</td>\n",
       "      <td>560.15</td>\n",
       "      <td>562.20</td>\n",
       "      <td>562.20</td>\n",
       "      <td>131759.0</td>\n",
       "      <td>0.0</td>\n",
       "      <td>1.0</td>\n",
       "    </tr>\n",
       "    <tr>\n",
       "      <th>2022-11-22</th>\n",
       "      <td>562.10</td>\n",
       "      <td>578.35</td>\n",
       "      <td>560.40</td>\n",
       "      <td>565.85</td>\n",
       "      <td>565.85</td>\n",
       "      <td>240283.0</td>\n",
       "      <td>0.0</td>\n",
       "      <td>1.0</td>\n",
       "    </tr>\n",
       "  </tbody>\n",
       "</table>\n",
       "</div>"
      ],
      "text/plain": [
       "              open    high     low   close  adjusted close    volume  \\\n",
       "date                                                                   \n",
       "2022-11-28  564.00  572.45  563.20  568.80          568.80  162793.0   \n",
       "2022-11-25  559.55  567.60  557.10  564.85          564.85  117173.0   \n",
       "2022-11-24  563.25  567.15  554.60  557.10          557.10  192331.0   \n",
       "2022-11-23  566.40  570.95  560.15  562.20          562.20  131759.0   \n",
       "2022-11-22  562.10  578.35  560.40  565.85          565.85  240283.0   \n",
       "\n",
       "            dividend amount  split coefficient  \n",
       "date                                            \n",
       "2022-11-28              0.0                1.0  \n",
       "2022-11-25              0.0                1.0  \n",
       "2022-11-24              0.0                1.0  \n",
       "2022-11-23              0.0                1.0  \n",
       "2022-11-22              0.0                1.0  "
      ]
     },
     "execution_count": 55,
     "metadata": {},
     "output_type": "execute_result"
    }
   ],
   "source": [
    "# Test your function\n",
    "df_ambuja = get_daily(ticker=\"AMBUJACEM.BSE\")\n",
    "\n",
    "print(df_ambuja.info())\n",
    "df_ambuja.head()"
   ]
  },
  {
   "cell_type": "markdown",
   "id": "3ce66301",
   "metadata": {},
   "source": [
    "How does this function deal with the two bugs we've explored in this section? Our first error, a bad URL, is something we don't need to worry about. No matter what the user inputs into this function, the URL will always be correct. But see what happens when the user inputs a bad ticker symbol. What's the error message? Would it help the user locate their mistake?"
   ]
  },
  {
   "cell_type": "markdown",
   "id": "45047bda",
   "metadata": {},
   "source": [
    "**Task 8.1.19:** Add an `if` clause to your `get_daily` function so that it throws an `Exception` when a user supplies a bad ticker symbol. Be sure the error message is informative.\n",
    "\n",
    "- [What's an Exception?](../%40textbook/02-python-advanced.ipynb#Error-Handling)\n",
    "- [Raise an Exception in Python.](../%40textbook/02-python-advanced.ipynb#Raising-Errors)"
   ]
  },
  {
   "cell_type": "code",
   "execution_count": 56,
   "id": "f2a42c6b",
   "metadata": {},
   "outputs": [
    {
     "ename": "Exception",
     "evalue": "Invalid API Call: Ckeck that ticker symbol 'ABUJACEM.BSE' is correct",
     "output_type": "error",
     "traceback": [
      "\u001b[1;31m---------------------------------------------------------------------------\u001b[0m",
      "\u001b[1;31mException\u001b[0m                                 Traceback (most recent call last)",
      "Input \u001b[1;32mIn [56]\u001b[0m, in \u001b[0;36m<cell line: 2>\u001b[1;34m()\u001b[0m\n\u001b[0;32m      1\u001b[0m \u001b[38;5;66;03m# Test your Exception\u001b[39;00m\n\u001b[1;32m----> 2\u001b[0m df_test \u001b[38;5;241m=\u001b[39m \u001b[43mget_daily\u001b[49m\u001b[43m(\u001b[49m\u001b[43mticker\u001b[49m\u001b[38;5;241;43m=\u001b[39;49m\u001b[38;5;124;43m\"\u001b[39;49m\u001b[38;5;124;43mABUJACEM.BSE\u001b[39;49m\u001b[38;5;124;43m\"\u001b[39;49m\u001b[43m)\u001b[49m\n",
      "Input \u001b[1;32mIn [54]\u001b[0m, in \u001b[0;36mget_daily\u001b[1;34m(ticker, output_size)\u001b[0m\n\u001b[0;32m     34\u001b[0m response_data \u001b[38;5;241m=\u001b[39m response\u001b[38;5;241m.\u001b[39mjson()\n\u001b[0;32m     36\u001b[0m \u001b[38;5;28;01mif\u001b[39;00m \u001b[38;5;124m\"\u001b[39m\u001b[38;5;124mTime Series (Daily)\u001b[39m\u001b[38;5;124m\"\u001b[39m \u001b[38;5;129;01mnot\u001b[39;00m \u001b[38;5;129;01min\u001b[39;00m response_data:\n\u001b[1;32m---> 37\u001b[0m     \u001b[38;5;28;01mraise\u001b[39;00m \u001b[38;5;167;01mException\u001b[39;00m(\n\u001b[0;32m     38\u001b[0m     \u001b[38;5;124mf\u001b[39m\u001b[38;5;124m\"\u001b[39m\u001b[38;5;124mInvalid API Call: Ckeck that ticker symbol \u001b[39m\u001b[38;5;124m'\u001b[39m\u001b[38;5;132;01m{\u001b[39;00mticker\u001b[38;5;132;01m}\u001b[39;00m\u001b[38;5;124m'\u001b[39m\u001b[38;5;124m is correct\u001b[39m\u001b[38;5;124m\"\u001b[39m\n\u001b[0;32m     39\u001b[0m     )\n\u001b[0;32m     40\u001b[0m \u001b[38;5;66;03m# Read data into DataFrame (8.1.12 & 8.1.13)\u001b[39;00m\n\u001b[0;32m     41\u001b[0m stock_data \u001b[38;5;241m=\u001b[39m response_data[\u001b[38;5;124m\"\u001b[39m\u001b[38;5;124mTime Series (Daily)\u001b[39m\u001b[38;5;124m\"\u001b[39m]\n",
      "\u001b[1;31mException\u001b[0m: Invalid API Call: Ckeck that ticker symbol 'ABUJACEM.BSE' is correct"
     ]
    }
   ],
   "source": [
    "# Test your Exception\n",
    "df_test = get_daily(ticker=\"ABUJACEM.BSE\")"
   ]
  },
  {
   "cell_type": "markdown",
   "id": "b879a709",
   "metadata": {},
   "source": [
    "Alright! We now have all the tools we need to get the data for our project. In the next lesson, we'll make our AlphaVantage code more reusable by creating a `data` module with class definitions. We'll also create the code we need to store and read this data from our application database."
   ]
  },
  {
   "cell_type": "code",
   "execution_count": null,
   "id": "d138a648",
   "metadata": {},
   "outputs": [],
   "source": []
  },
  {
   "cell_type": "code",
   "execution_count": null,
   "id": "c942ada2",
   "metadata": {},
   "outputs": [],
   "source": []
  }
 ],
 "metadata": {
  "kernelspec": {
   "display_name": "Python 3 (ipykernel)",
   "language": "python",
   "name": "python3"
  },
  "language_info": {
   "codemirror_mode": {
    "name": "ipython",
    "version": 3
   },
   "file_extension": ".py",
   "mimetype": "text/x-python",
   "name": "python",
   "nbconvert_exporter": "python",
   "pygments_lexer": "ipython3",
   "version": "3.9.12"
  }
 },
 "nbformat": 4,
 "nbformat_minor": 5
}
